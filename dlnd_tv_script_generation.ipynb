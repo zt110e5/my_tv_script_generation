{
 "cells": [
  {
   "cell_type": "markdown",
   "metadata": {
    "deletable": true,
    "editable": true
   },
   "source": [
    "# TV Script Generation\n",
    "In this project, you'll generate your own [Simpsons](https://en.wikipedia.org/wiki/The_Simpsons) TV scripts using RNNs.  You'll be using part of the [Simpsons dataset](https://www.kaggle.com/wcukierski/the-simpsons-by-the-data) of scripts from 27 seasons.  The Neural Network you'll build will generate a new TV script for a scene at [Moe's Tavern](https://simpsonswiki.com/wiki/Moe's_Tavern).\n",
    "## Get the Data\n",
    "The data is already provided for you.  You'll be using a subset of the original dataset.  It consists of only the scenes in Moe's Tavern.  This doesn't include other versions of the tavern, like \"Moe's Cavern\", \"Flaming Moe's\", \"Uncle Moe's Family Feed-Bag\", etc.."
   ]
  },
  {
   "cell_type": "code",
   "execution_count": 1,
   "metadata": {
    "collapsed": false,
    "deletable": true,
    "editable": true
   },
   "outputs": [],
   "source": [
    "\"\"\"\n",
    "DON'T MODIFY ANYTHING IN THIS CELL\n",
    "\"\"\"\n",
    "import helper\n",
    "import tensorflow as tf\n",
    "data_dir = './data/simpsons/moes_tavern_lines.txt'\n",
    "text = helper.load_data(data_dir)\n",
    "# Ignore notice, since we don't use it for analysing the data\n",
    "text = text[81:]"
   ]
  },
  {
   "cell_type": "markdown",
   "metadata": {
    "deletable": true,
    "editable": true
   },
   "source": [
    "## Explore the Data\n",
    "Play around with `view_sentence_range` to view different parts of the data."
   ]
  },
  {
   "cell_type": "code",
   "execution_count": 2,
   "metadata": {
    "collapsed": false,
    "deletable": true,
    "editable": true
   },
   "outputs": [
    {
     "name": "stdout",
     "output_type": "stream",
     "text": [
      "Dataset Stats\n",
      "Roughly the number of unique words: 11492\n",
      "Number of scenes: 262\n",
      "Average number of sentences in each scene: 15.248091603053435\n",
      "Number of lines: 4257\n",
      "Average number of words in each line: 11.50434578341555\n",
      "\n",
      "The sentences 0 to 10:\n",
      "Moe_Szyslak: (INTO PHONE) Moe's Tavern. Where the elite meet to drink.\n",
      "Bart_Simpson: Eh, yeah, hello, is Mike there? Last name, Rotch.\n",
      "Moe_Szyslak: (INTO PHONE) Hold on, I'll check. (TO BARFLIES) Mike Rotch. Mike Rotch. Hey, has anybody seen Mike Rotch, lately?\n",
      "Moe_Szyslak: (INTO PHONE) Listen you little puke. One of these days I'm gonna catch you, and I'm gonna carve my name on your back with an ice pick.\n",
      "Moe_Szyslak: What's the matter Homer? You're not your normal effervescent self.\n",
      "Homer_Simpson: I got my problems, Moe. Give me another one.\n",
      "Moe_Szyslak: Homer, hey, you should not drink to forget your problems.\n",
      "Barney_Gumble: Yeah, you should only drink to enhance your social skills.\n",
      "\n",
      "\n"
     ]
    }
   ],
   "source": [
    "view_sentence_range = (0, 10)\n",
    "\n",
    "\"\"\"\n",
    "DON'T MODIFY ANYTHING IN THIS CELL\n",
    "\"\"\"\n",
    "import numpy as np\n",
    "\n",
    "print('Dataset Stats')\n",
    "print('Roughly the number of unique words: {}'.format(len({word: None for word in text.split()})))\n",
    "scenes = text.split('\\n\\n')\n",
    "print('Number of scenes: {}'.format(len(scenes)))\n",
    "sentence_count_scene = [scene.count('\\n') for scene in scenes]\n",
    "print('Average number of sentences in each scene: {}'.format(np.average(sentence_count_scene)))\n",
    "\n",
    "sentences = [sentence for scene in scenes for sentence in scene.split('\\n')]\n",
    "print('Number of lines: {}'.format(len(sentences)))\n",
    "word_count_sentence = [len(sentence.split()) for sentence in sentences]\n",
    "print('Average number of words in each line: {}'.format(np.average(word_count_sentence)))\n",
    "\n",
    "print()\n",
    "print('The sentences {} to {}:'.format(*view_sentence_range))\n",
    "print('\\n'.join(text.split('\\n')[view_sentence_range[0]:view_sentence_range[1]]))"
   ]
  },
  {
   "cell_type": "markdown",
   "metadata": {
    "deletable": true,
    "editable": true
   },
   "source": [
    "## Implement Preprocessing Functions\n",
    "The first thing to do to any dataset is preprocessing.  Implement the following preprocessing functions below:\n",
    "- Lookup Table    #查阅数据表\n",
    "- Tokenize Punctuation  #将标点符号标记化\n",
    "\n",
    "### Lookup Table\n",
    "To create a word embedding, you first need to transform the words to ids.  In this function, create two dictionaries:\n",
    "- Dictionary to go from the words to an id, we'll call `vocab_to_int`\n",
    "- Dictionary to go from the id to word, we'll call `int_to_vocab`\n",
    "\n",
    "Return these dictionaries in the following tuple `(vocab_to_int, int_to_vocab)`"
   ]
  },
  {
   "cell_type": "code",
   "execution_count": 4,
   "metadata": {
    "collapsed": false,
    "deletable": true,
    "editable": true
   },
   "outputs": [],
   "source": [
    "#测试用\n",
    "s = 'spam'\n",
    "e = enumerate(s)\n",
    "#print(e)\n",
    "#print(next(e))\n"
   ]
  },
  {
   "cell_type": "code",
   "execution_count": 15,
   "metadata": {
    "collapsed": false,
    "deletable": true,
    "editable": true
   },
   "outputs": [
    {
     "name": "stdout",
     "output_type": "stream",
     "text": [
      "Tests Passed\n"
     ]
    }
   ],
   "source": [
    "import numpy as np\n",
    "import problem_unittests as tests\n",
    "from collections import Counter\n",
    "\n",
    "def create_lookup_tables(text):\n",
    "    \"\"\"\n",
    "    Create lookup tables for vocabulary\n",
    "    :param text: The text of tv scripts split into words\n",
    "    :return: A tuple of dicts (vocab_to_int, int_to_vocab)\n",
    "    \"\"\"\n",
    "    # TODO: Implement Function\n",
    "    #vocabs = set(text)\n",
    "    '''\n",
    "    vocab_to_int = {}\n",
    "    int_to_vocab = {}\n",
    "    int_num = 0\n",
    "    for item in vocabs:\n",
    "        vocab_to_int[item] = int_num\n",
    "        int_num += 1\n",
    "    for item in vocabs:\n",
    "        int_to_vocab[int_num] = item\n",
    "        int_num += 1\n",
    "    '''\n",
    "    \n",
    "    vocabs = set(text)\n",
    "    vocab_to_int = {word : int_num for int_num,word in enumerate(vocabs)}\n",
    "    int_to_vocab = {int_num : word for int_num,word in enumerate(vocabs)}\n",
    "    '''\n",
    "    counts = Counter(text)\n",
    "    vocabs = sorted(counts,key=counts.get,reverse=True)\n",
    "    vocab_to_int = {word : int_num for int_num,word in enumerate(vocabs)}\n",
    "    int_to_vocab = {int_num : word for int_num,word in enumerate(vocabs)}\n",
    "    '''\n",
    "    return vocab_to_int, int_to_vocab\n",
    "\n",
    "\n",
    "\"\"\"\n",
    "DON'T MODIFY ANYTHING IN THIS CELL THAT IS BELOW THIS LINE\n",
    "\"\"\"\n",
    "tests.test_create_lookup_tables(create_lookup_tables)"
   ]
  },
  {
   "cell_type": "code",
   "execution_count": 6,
   "metadata": {
    "collapsed": false,
    "deletable": true,
    "editable": true
   },
   "outputs": [
    {
     "name": "stdout",
     "output_type": "stream",
     "text": [
      "1.0.0\n"
     ]
    }
   ],
   "source": [
    "import tensorflow as tf\n",
    "print(tf.__version__)"
   ]
  },
  {
   "cell_type": "markdown",
   "metadata": {
    "deletable": true,
    "editable": true
   },
   "source": [
    "### Tokenize Punctuation\n",
    "We'll be splitting the script into a word array using spaces as delimiters.  However, punctuations like periods and exclamation marks make it hard for the neural network to distinguish between the word \"bye\" and \"bye!\".\n",
    "\n",
    "Implement the function `token_lookup` to return a dict that will be used to tokenize symbols like \"!\" into \"||Exclamation_Mark||\".  Create a dictionary for the following symbols where the symbol is the key and value is the token:\n",
    "- Period ( . )\n",
    "- Comma ( , )\n",
    "- Quotation Mark ( \" )\n",
    "- Semicolon ( ; )\n",
    "- Exclamation mark ( ! )\n",
    "- Question mark ( ? )\n",
    "- Left Parentheses ( ( )\n",
    "- Right Parentheses ( ) )\n",
    "- Dash ( -- )\n",
    "- Return ( \\n )\n",
    "\n",
    "This dictionary will be used to token the symbols and add the delimiter (space) around it.  This separates the symbols as it's own word, making it easier for the neural network to predict on the next word. Make sure you don't use a token that could be confused as a word. Instead of using the token \"dash\", try using something like \"||dash||\"."
   ]
  },
  {
   "cell_type": "code",
   "execution_count": 7,
   "metadata": {
    "collapsed": false,
    "deletable": true,
    "editable": true
   },
   "outputs": [
    {
     "name": "stdout",
     "output_type": "stream",
     "text": [
      "Tests Passed\n"
     ]
    }
   ],
   "source": [
    "def token_lookup():\n",
    "    \"\"\"\n",
    "    Generate a dict to turn punctuation into a token.\n",
    "    :return: Tokenize dictionary where the key is the punctuation and the value is the token\n",
    "    \"\"\"\n",
    "    # TODO: Implement Function\n",
    "    symbols = {\n",
    "        \".\":\"||Period||\",\n",
    "        \",\":\"||Comma||\",\n",
    "        '\"':\"||Quotation_Mark||\",\n",
    "        \";\":\"||Semicolon||\",\n",
    "        \"!\":\"||Exclamation_mark||\",\n",
    "        \"?\":\"||Question_mark||\",\n",
    "        \"(\":\"||Left_Parentheses||\",\n",
    "        \")\":\"||Right_Parenthese||\",\n",
    "        \"--\":\"||Dash||\",\n",
    "        \"\\n\":\"||Return||\"\n",
    "        \n",
    "    }\n",
    "    return symbols\n",
    "\n",
    "\"\"\"\n",
    "DON'T MODIFY ANYTHING IN THIS CELL THAT IS BELOW THIS LINE\n",
    "\"\"\"\n",
    "tests.test_tokenize(token_lookup)"
   ]
  },
  {
   "cell_type": "markdown",
   "metadata": {
    "deletable": true,
    "editable": true
   },
   "source": [
    "## Preprocess all the data and save it\n",
    "Running the code cell below will preprocess all the data and save it to file."
   ]
  },
  {
   "cell_type": "code",
   "execution_count": 8,
   "metadata": {
    "collapsed": false,
    "deletable": true,
    "editable": true
   },
   "outputs": [],
   "source": [
    "\"\"\"\n",
    "DON'T MODIFY ANYTHING IN THIS CELL\n",
    "\"\"\"\n",
    "# Preprocess Training, Validation, and Testing Data\n",
    "helper.preprocess_and_save_data(data_dir, token_lookup, create_lookup_tables)"
   ]
  },
  {
   "cell_type": "markdown",
   "metadata": {
    "deletable": true,
    "editable": true
   },
   "source": [
    "# Check Point\n",
    "This is your first checkpoint. If you ever decide to come back to this notebook or have to restart the notebook, you can start from here. The preprocessed data has been saved to disk."
   ]
  },
  {
   "cell_type": "code",
   "execution_count": 9,
   "metadata": {
    "collapsed": false,
    "deletable": true,
    "editable": true
   },
   "outputs": [],
   "source": [
    "\"\"\"\n",
    "DON'T MODIFY ANYTHING IN THIS CELL\n",
    "\"\"\"\n",
    "import helper\n",
    "import numpy as np\n",
    "import problem_unittests as tests\n",
    "\n",
    "int_text, vocab_to_int, int_to_vocab, token_dict = helper.load_preprocess()"
   ]
  },
  {
   "cell_type": "code",
   "execution_count": 10,
   "metadata": {
    "collapsed": false,
    "deletable": true,
    "editable": true
   },
   "outputs": [],
   "source": [
    "#测试用\n",
    "#print(int_text[:30],int_to_vocab[0],vocab_to_int['ratio'])"
   ]
  },
  {
   "cell_type": "markdown",
   "metadata": {
    "deletable": true,
    "editable": true
   },
   "source": [
    "## Build the Neural Network\n",
    "You'll build the components necessary to build a RNN by implementing the following functions below:\n",
    "- get_inputs\n",
    "- get_init_cell\n",
    "- get_embed\n",
    "- build_rnn\n",
    "- build_nn\n",
    "- get_batches\n",
    "\n",
    "### Check the Version of TensorFlow and Access to GPU"
   ]
  },
  {
   "cell_type": "code",
   "execution_count": 11,
   "metadata": {
    "collapsed": false,
    "deletable": true,
    "editable": true
   },
   "outputs": [
    {
     "name": "stdout",
     "output_type": "stream",
     "text": [
      "TensorFlow Version: 1.0.0\n",
      "Default GPU Device: /gpu:0\n"
     ]
    }
   ],
   "source": [
    "\"\"\"\n",
    "DON'T MODIFY ANYTHING IN THIS CELL\n",
    "\"\"\"\n",
    "from distutils.version import LooseVersion\n",
    "import warnings\n",
    "import tensorflow as tf\n",
    "\n",
    "# Check TensorFlow Version\n",
    "assert LooseVersion(tf.__version__) >= LooseVersion('1.0'), 'Please use TensorFlow version 1.0 or newer'\n",
    "print('TensorFlow Version: {}'.format(tf.__version__))\n",
    "\n",
    "# Check for a GPU\n",
    "if not tf.test.gpu_device_name():\n",
    "    warnings.warn('No GPU found. Please use a GPU to train your neural network.')\n",
    "else:\n",
    "    print('Default GPU Device: {}'.format(tf.test.gpu_device_name()))"
   ]
  },
  {
   "cell_type": "markdown",
   "metadata": {
    "deletable": true,
    "editable": true
   },
   "source": [
    "### Input\n",
    "Implement the `get_inputs()` function to create TF Placeholders for the Neural Network.  It should create the following placeholders:\n",
    "- Input text placeholder named \"input\" using the [TF Placeholder](https://www.tensorflow.org/api_docs/python/tf/placeholder) `name` parameter.\n",
    "- Targets placeholder\n",
    "- Learning Rate placeholder\n",
    "\n",
    "Return the placeholders in the following tuple `(Input, Targets, LearningRate)`"
   ]
  },
  {
   "cell_type": "code",
   "execution_count": 12,
   "metadata": {
    "collapsed": false,
    "deletable": true,
    "editable": true
   },
   "outputs": [
    {
     "name": "stdout",
     "output_type": "stream",
     "text": [
      "Tests Passed\n"
     ]
    }
   ],
   "source": [
    "def get_inputs():\n",
    "    \"\"\"\n",
    "    Create TF Placeholders for input, targets, and learning rate.\n",
    "    :return: Tuple (input, targets, learning rate)\n",
    "    \"\"\"\n",
    "    # TODO: Implement Function\n",
    "    #.创建参数的张量占位符\n",
    "    inputs = tf.placeholder(tf.int32,(None,None),name='input')\n",
    "    targets = tf.placeholder(tf.int32,(None,None),name='targets')\n",
    "    LearningRate = tf.placeholder(tf.float32,name='learning_rate')\n",
    "    return inputs, targets, LearningRate\n",
    "\n",
    "\n",
    "\"\"\"\n",
    "DON'T MODIFY ANYTHING IN THIS CELL THAT IS BELOW THIS LINE\n",
    "\"\"\"\n",
    "tests.test_get_inputs(get_inputs)"
   ]
  },
  {
   "cell_type": "markdown",
   "metadata": {
    "deletable": true,
    "editable": true
   },
   "source": [
    "### Build RNN Cell and Initialize\n",
    "Stack one or more [`BasicLSTMCells`](https://www.tensorflow.org/api_docs/python/tf/contrib/rnn/BasicLSTMCell) in a [`MultiRNNCell`](https://www.tensorflow.org/api_docs/python/tf/contrib/rnn/MultiRNNCell).\n",
    "- The Rnn size should be set using `rnn_size`\n",
    "- Initalize Cell State using the MultiRNNCell's [`zero_state()`](https://www.tensorflow.org/api_docs/python/tf/contrib/rnn/MultiRNNCell#zero_state) function\n",
    "    - Apply the name \"initial_state\" to the initial state using [`tf.identity()`](https://www.tensorflow.org/api_docs/python/tf/identity)\n",
    "\n",
    "Return the cell and initial state in the following tuple `(Cell, InitialState)`"
   ]
  },
  {
   "cell_type": "code",
   "execution_count": 13,
   "metadata": {
    "collapsed": false,
    "deletable": true,
    "editable": true
   },
   "outputs": [
    {
     "name": "stdout",
     "output_type": "stream",
     "text": [
      "Tests Passed\n"
     ]
    }
   ],
   "source": [
    "def get_init_cell(batch_size, rnn_size):\n",
    "    \"\"\"\n",
    "    Create an RNN Cell and initialize it.\n",
    "    :param batch_size: Size of batches\n",
    "    :param rnn_size: Size of RNNs\n",
    "    :return: Tuple (cell, initialize state)\n",
    "    \"\"\"\n",
    "    # TODO: Implement Function\n",
    "    #1.建立LSTM层状态\n",
    "    lstm = tf.contrib.rnn.BasicLSTMCell(rnn_size)\n",
    "    #2.堆叠多个 LSTM 层, 进行深度学习\n",
    "    cell = tf.contrib.rnn.MultiRNNCell([lstm] * 2)\n",
    "    #3.初始化状态\n",
    "    initial_state = cell.zero_state(batch_size,tf.float32)\n",
    "    #4.将初始状态的reference标识到initial_state\n",
    "    initial_state = tf.identity(initial_state,name='initial_state')\n",
    "    \n",
    "    return cell, initial_state\n",
    "\n",
    "\n",
    "\"\"\"\n",
    "DON'T MODIFY ANYTHING IN THIS CELL THAT IS BELOW THIS LINE\n",
    "\"\"\"\n",
    "tests.test_get_init_cell(get_init_cell)"
   ]
  },
  {
   "cell_type": "markdown",
   "metadata": {
    "deletable": true,
    "editable": true
   },
   "source": [
    "### Word Embedding\n",
    "Apply embedding to `input_data` using TensorFlow.  Return the embedded sequence."
   ]
  },
  {
   "cell_type": "code",
   "execution_count": 14,
   "metadata": {
    "collapsed": false,
    "deletable": true,
    "editable": true
   },
   "outputs": [
    {
     "name": "stdout",
     "output_type": "stream",
     "text": [
      "Tests Passed\n"
     ]
    }
   ],
   "source": [
    "def get_embed(input_data, vocab_size, embed_dim):\n",
    "    \"\"\"\n",
    "    Create embedding for <input_data>.\n",
    "    :param input_data: TF placeholder for text input.\n",
    "    :param vocab_size: Number of words in vocabulary.\n",
    "    :param embed_dim: Number of embedding dimensions\n",
    "    :return: Embedded input.\n",
    "    对输入数据进行词嵌入，并返回嵌入得到的序列。\n",
    "    本质上是一个全连接层\n",
    "    \"\"\"\n",
    "    # TODO: Implement Function\n",
    "    embedding = tf.Variable(tf.random_uniform([vocab_size,embed_dim],-1,1))\n",
    "    embed = tf.nn.embedding_lookup(embedding,input_data)\n",
    "    return embed\n",
    "\n",
    "\n",
    "\"\"\"\n",
    "DON'T MODIFY ANYTHING IN THIS CELL THAT IS BELOW THIS LINE\n",
    "\"\"\"\n",
    "tests.test_get_embed(get_embed)"
   ]
  },
  {
   "cell_type": "markdown",
   "metadata": {
    "deletable": true,
    "editable": true
   },
   "source": [
    "### Build RNN\n",
    "You created a RNN Cell in the `get_init_cell()` function.  Time to use the cell to create a RNN.\n",
    "- Build the RNN using the [`tf.nn.dynamic_rnn()`](https://www.tensorflow.org/api_docs/python/tf/nn/dynamic_rnn)\n",
    " - Apply the name \"final_state\" to the final state using [`tf.identity()`](https://www.tensorflow.org/api_docs/python/tf/identity)\n",
    "\n",
    "Return the outputs and final_state state in the following tuple `(Outputs, FinalState)` "
   ]
  },
  {
   "cell_type": "code",
   "execution_count": 17,
   "metadata": {
    "collapsed": false,
    "deletable": true,
    "editable": true
   },
   "outputs": [
    {
     "name": "stdout",
     "output_type": "stream",
     "text": [
      "Tests Passed\n"
     ]
    }
   ],
   "source": [
    "def build_rnn(cell, inputs):\n",
    "    \"\"\"\n",
    "    Create a RNN using a RNN Cell\n",
    "    :param cell: RNN Cell\n",
    "    :param inputs: Input text data\n",
    "    :return: Tuple (Outputs, Final State)\n",
    "    \"\"\"\n",
    "    # TODO: Implement Function\n",
    "    #1.创建RNN网络\n",
    "    outputs,state = tf.nn.dynamic_rnn(cell,inputs,dtype=tf.float32)\n",
    "    final_state = state\n",
    "    #2.将最终状态的reference标识到final_state\n",
    "    final_state = tf.identity(final_state,name='final_state')\n",
    "    return outputs, final_state\n",
    "\n",
    "\n",
    "\"\"\"\n",
    "DON'T MODIFY ANYTHING IN THIS CELL THAT IS BELOW THIS LINE\n",
    "\"\"\"\n",
    "tests.test_build_rnn(build_rnn)"
   ]
  },
  {
   "cell_type": "markdown",
   "metadata": {
    "deletable": true,
    "editable": true
   },
   "source": [
    "### Build the Neural Network\n",
    "Apply the functions you implemented above to:\n",
    "- Apply embedding to `input_data` using your `get_embed(input_data, vocab_size, embed_dim)` function.\n",
    "- Build RNN using `cell` and your `build_rnn(cell, inputs)` function.\n",
    "- Apply a fully connected layer with a linear activation and `vocab_size` as the number of outputs.\n",
    "\n",
    "Return the logits and final state in the following tuple (Logits, FinalState) "
   ]
  },
  {
   "cell_type": "code",
   "execution_count": 19,
   "metadata": {
    "collapsed": false,
    "deletable": true,
    "editable": true
   },
   "outputs": [
    {
     "name": "stdout",
     "output_type": "stream",
     "text": [
      "Tests Passed\n"
     ]
    }
   ],
   "source": [
    "def build_nn(cell, rnn_size, input_data, vocab_size, embed_dim):\n",
    "    \"\"\"\n",
    "    Build part of the neural network\n",
    "    :param cell: RNN cell\n",
    "    :param rnn_size: Size of rnns\n",
    "    :param input_data: Input data\n",
    "    :param vocab_size: Vocabulary size\n",
    "    :param embed_dim: Number of embedding dimensions\n",
    "    :return: Tuple (Logits, FinalState)\n",
    "    \"\"\"\n",
    "    # TODO: Implement Function\n",
    "    #1.使用之前写的get_embed()函数，嵌入处理input_data\n",
    "    embedding = get_embed(input_data,vocab_size,embed_dim)\n",
    "    #print(embedding)\n",
    "    #2.使用之前建立的bulild_rnn()函数创建RNN网络，输出output和最终状态\n",
    "    output , final_states = build_rnn(cell,embedding)\n",
    "    #3.加一个全连接层（参数：上一层的输出，线性激活函数，vocab_size）\n",
    "    logits = tf.contrib.layers.fully_connected(output,vocab_size,activation_fn=None)\n",
    "    return logits, final_states\n",
    "\n",
    "\n",
    "\"\"\"\n",
    "DON'T MODIFY ANYTHING IN THIS CELL THAT IS BELOW THIS LINE\n",
    "\"\"\"\n",
    "tests.test_build_nn(build_nn)"
   ]
  },
  {
   "cell_type": "markdown",
   "metadata": {
    "deletable": true,
    "editable": true
   },
   "source": [
    "### Batches\n",
    "Implement `get_batches` to create batches of input and targets using `int_text`.  The batches should be a Numpy array with the shape `(number of batches, 2, batch size, sequence length)`. Each batch contains two elements:\n",
    "- The first element is a single batch of **input** with the shape `[batch size, sequence length]`\n",
    "- The second element is a single batch of **targets** with the shape `[batch size, sequence length]`\n",
    "\n",
    "If you can't fill the last batch with enough data, drop the last batch.\n",
    "\n",
    "For exmple, `get_batches([1, 2, 3, 4, 5, 6, 7, 8, 9, 10, 11, 12, 13, 14, 15], 2, 3)` would return a Numpy array of the following:\n",
    "```\n",
    "[\n",
    "  # First Batch\n",
    "  [\n",
    "    # Batch of Input\n",
    "    [[ 1  2  3], [ 7  8  9]],\n",
    "    # Batch of targets\n",
    "    [[ 2  3  4], [ 8  9 10]]\n",
    "  ],\n",
    " \n",
    "  # Second Batch\n",
    "  [\n",
    "    # Batch of Input\n",
    "    [[ 4  5  6], [10 11 12]],\n",
    "    # Batch of targets\n",
    "    [[ 5  6  7], [11 12 13]]\n",
    "  ]\n",
    "]\n",
    "```"
   ]
  },
  {
   "cell_type": "code",
   "execution_count": 128,
   "metadata": {
    "collapsed": false,
    "deletable": true,
    "editable": true
   },
   "outputs": [
    {
     "name": "stdout",
     "output_type": "stream",
     "text": [
      "Tests Passed\n"
     ]
    }
   ],
   "source": [
    "def get_batches(int_text, batch_size, seq_length):\n",
    "    \"\"\"\n",
    "    Return batches of input and target\n",
    "    :param int_text: Text with the words replaced by their ids\n",
    "    :param batch_size: The size of batch\n",
    "    :param seq_length: The length of sequence\n",
    "    :return: Batches as a Numpy array\n",
    "    \n",
    "    7个batch,batch_size:128,seq_length:5\n",
    "    \"\"\"\n",
    "    \n",
    "    # TODO: Implement Function\n",
    "    \n",
    "    #1.计算出有多少个batch\n",
    "    batches_num = int(len(int_text) // (batch_size*seq_length))\n",
    "    #2.根据批次多少，序列长度，每个批次大小计算x,y\n",
    "    x_int_text = int_text[:batches_num * seq_length * batch_size]\n",
    "    y_int_text = int_text[1:batch_size * batches_num * seq_length]\n",
    "    y_int_text.extend([int_text[0]])\n",
    "    #3.按批次数量分出个batch\n",
    "    x_batch = np.split(np.array(x_int_text),batch_size)\n",
    "    y_batch = np.split(np.array(y_int_text),batch_size)\n",
    "    #print(x_batch)\n",
    "    x_text_2,y_text_2 = [],[]\n",
    "    \n",
    "    #4.对于每个batch，分割成input[batch size, sequence length]和target[batch size, sequence length]\n",
    "    second_split = int(len(x_batch[0]) / seq_length)\n",
    "    for idx in range(batch_size):\n",
    "        x_text_2.append(np.split(x_batch[idx],second_split)) \n",
    "        y_text_2.append(np.split(y_batch[idx],second_split))  \n",
    "        \n",
    "    batches_maxtrix = np.zeros((batches_num,2,batch_size,seq_length),dtype=np.int32)\n",
    "    for i in range(batch_size):\n",
    "        for j in range(second_split):\n",
    "            batches_maxtrix[j][0][i] = x_text_2[i][j]\n",
    "            batches_maxtrix[j][1][i] = y_text_2[i][j]\n",
    "    #print(batches_maxtrix)\n",
    "    #print(np.array(batches_maxtrix).shape)\n",
    "    return np.array(batches_maxtrix)\n",
    "\n",
    "\"\"\"\n",
    "DON'T MODIFY ANYTHING IN THIS CELL THAT IS BELOW THIS LINE\n",
    "\"\"\"\n",
    "tests.test_get_batches(get_batches)"
   ]
  },
  {
   "cell_type": "markdown",
   "metadata": {
    "deletable": true,
    "editable": true
   },
   "source": [
    "## Neural Network Training\n",
    "### Hyperparameters\n",
    "Tune the following parameters:\n",
    "\n",
    "- Set `num_epochs` to the number of epochs.\n",
    "- Set `batch_size` to the batch size.\n",
    "- Set `rnn_size` to the size of the RNNs.\n",
    "- Set `embed_dim` to the size of the embedding.\n",
    "- Set `seq_length` to the length of sequence.\n",
    "- Set `learning_rate` to the learning rate.\n",
    "- Set `show_every_n_batches` to the number of batches the neural network should print progress."
   ]
  },
  {
   "cell_type": "code",
   "execution_count": 150,
   "metadata": {
    "collapsed": true,
    "deletable": true,
    "editable": true
   },
   "outputs": [],
   "source": [
    "# Number of Epochs\n",
    "num_epochs = 600\n",
    "# Batch Size\n",
    "batch_size = 256\n",
    "# RNN Size\n",
    "rnn_size = 256\n",
    "# Embedding Dimension Size\n",
    "embed_dim = 128\n",
    "# Sequence Length\n",
    "seq_length = 20\n",
    "# Learning Rate\n",
    "learning_rate = 0.001\n",
    "# Show stats for every n number of batches\n",
    "show_every_n_batches = 20\n",
    "\n",
    "\"\"\"\n",
    "DON'T MODIFY ANYTHING IN THIS CELL THAT IS BELOW THIS LINE\n",
    "\"\"\"\n",
    "save_dir = './save'"
   ]
  },
  {
   "cell_type": "markdown",
   "metadata": {
    "deletable": true,
    "editable": true
   },
   "source": [
    "### Build the Graph\n",
    "Build the graph using the neural network you implemented."
   ]
  },
  {
   "cell_type": "code",
   "execution_count": 151,
   "metadata": {
    "collapsed": false,
    "deletable": true,
    "editable": true
   },
   "outputs": [],
   "source": [
    "\"\"\"\n",
    "DON'T MODIFY ANYTHING IN THIS CELL\n",
    "\"\"\"\n",
    "from tensorflow.contrib import seq2seq\n",
    "\n",
    "train_graph = tf.Graph()\n",
    "with train_graph.as_default():\n",
    "    vocab_size = len(int_to_vocab)\n",
    "    input_text, targets, lr = get_inputs()\n",
    "    input_data_shape = tf.shape(input_text)\n",
    "    cell, initial_state = get_init_cell(input_data_shape[0], rnn_size)\n",
    "    logits, final_state = build_nn(cell, rnn_size, input_text, vocab_size, embed_dim)\n",
    "\n",
    "    # Probabilities for generating words\n",
    "    probs = tf.nn.softmax(logits, name='probs')\n",
    "\n",
    "    # Loss function\n",
    "    cost = seq2seq.sequence_loss(\n",
    "        logits,\n",
    "        targets,\n",
    "        tf.ones([input_data_shape[0], input_data_shape[1]]))\n",
    "\n",
    "    # Optimizer\n",
    "    optimizer = tf.train.AdamOptimizer(lr)\n",
    "\n",
    "    # Gradient Clipping\n",
    "    gradients = optimizer.compute_gradients(cost)\n",
    "    capped_gradients = [(tf.clip_by_value(grad, -1., 1.), var) for grad, var in gradients if grad is not None]\n",
    "    train_op = optimizer.apply_gradients(capped_gradients)"
   ]
  },
  {
   "cell_type": "markdown",
   "metadata": {
    "deletable": true,
    "editable": true
   },
   "source": [
    "## Train\n",
    "Train the neural network on the preprocessed data.  If you have a hard time getting a good loss, check the [forms](https://discussions.udacity.com/) to see if anyone is having the same problem."
   ]
  },
  {
   "cell_type": "code",
   "execution_count": 152,
   "metadata": {
    "collapsed": false,
    "deletable": true,
    "editable": true
   },
   "outputs": [
    {
     "name": "stdout",
     "output_type": "stream",
     "text": [
      "Epoch   0 Batch    0/13   train_loss = 8.825\n",
      "Epoch   1 Batch    7/13   train_loss = 6.423\n",
      "Epoch   3 Batch    1/13   train_loss = 6.144\n",
      "Epoch   4 Batch    8/13   train_loss = 6.014\n",
      "Epoch   6 Batch    2/13   train_loss = 5.888\n",
      "Epoch   7 Batch    9/13   train_loss = 5.846\n",
      "Epoch   9 Batch    3/13   train_loss = 5.730\n",
      "Epoch  10 Batch   10/13   train_loss = 5.679\n",
      "Epoch  12 Batch    4/13   train_loss = 5.528\n",
      "Epoch  13 Batch   11/13   train_loss = 5.436\n",
      "Epoch  15 Batch    5/13   train_loss = 5.321\n",
      "Epoch  16 Batch   12/13   train_loss = 5.342\n",
      "Epoch  18 Batch    6/13   train_loss = 5.202\n",
      "Epoch  20 Batch    0/13   train_loss = 5.045\n",
      "Epoch  21 Batch    7/13   train_loss = 5.035\n",
      "Epoch  23 Batch    1/13   train_loss = 4.881\n",
      "Epoch  24 Batch    8/13   train_loss = 4.789\n",
      "Epoch  26 Batch    2/13   train_loss = 4.678\n",
      "Epoch  27 Batch    9/13   train_loss = 4.723\n",
      "Epoch  29 Batch    3/13   train_loss = 4.671\n",
      "Epoch  30 Batch   10/13   train_loss = 4.633\n",
      "Epoch  32 Batch    4/13   train_loss = 4.547\n",
      "Epoch  33 Batch   11/13   train_loss = 4.499\n",
      "Epoch  35 Batch    5/13   train_loss = 4.433\n",
      "Epoch  36 Batch   12/13   train_loss = 4.459\n",
      "Epoch  38 Batch    6/13   train_loss = 4.398\n",
      "Epoch  40 Batch    0/13   train_loss = 4.286\n",
      "Epoch  41 Batch    7/13   train_loss = 4.293\n",
      "Epoch  43 Batch    1/13   train_loss = 4.194\n",
      "Epoch  44 Batch    8/13   train_loss = 4.136\n",
      "Epoch  46 Batch    2/13   train_loss = 4.068\n",
      "Epoch  47 Batch    9/13   train_loss = 4.098\n",
      "Epoch  49 Batch    3/13   train_loss = 4.062\n",
      "Epoch  50 Batch   10/13   train_loss = 4.042\n",
      "Epoch  52 Batch    4/13   train_loss = 3.979\n",
      "Epoch  53 Batch   11/13   train_loss = 3.950\n",
      "Epoch  55 Batch    5/13   train_loss = 3.917\n",
      "Epoch  56 Batch   12/13   train_loss = 3.927\n",
      "Epoch  58 Batch    6/13   train_loss = 3.866\n",
      "Epoch  60 Batch    0/13   train_loss = 3.783\n",
      "Epoch  61 Batch    7/13   train_loss = 3.783\n",
      "Epoch  63 Batch    1/13   train_loss = 3.723\n",
      "Epoch  64 Batch    8/13   train_loss = 3.670\n",
      "Epoch  66 Batch    2/13   train_loss = 3.634\n",
      "Epoch  67 Batch    9/13   train_loss = 3.634\n",
      "Epoch  69 Batch    3/13   train_loss = 3.612\n",
      "Epoch  70 Batch   10/13   train_loss = 3.594\n",
      "Epoch  72 Batch    4/13   train_loss = 3.539\n",
      "Epoch  73 Batch   11/13   train_loss = 3.513\n",
      "Epoch  75 Batch    5/13   train_loss = 3.509\n",
      "Epoch  76 Batch   12/13   train_loss = 3.505\n",
      "Epoch  78 Batch    6/13   train_loss = 3.433\n",
      "Epoch  80 Batch    0/13   train_loss = 3.367\n",
      "Epoch  81 Batch    7/13   train_loss = 3.348\n",
      "Epoch  83 Batch    1/13   train_loss = 3.316\n",
      "Epoch  84 Batch    8/13   train_loss = 3.279\n",
      "Epoch  86 Batch    2/13   train_loss = 3.267\n",
      "Epoch  87 Batch    9/13   train_loss = 3.240\n",
      "Epoch  89 Batch    3/13   train_loss = 3.229\n",
      "Epoch  90 Batch   10/13   train_loss = 3.205\n",
      "Epoch  92 Batch    4/13   train_loss = 3.156\n",
      "Epoch  93 Batch   11/13   train_loss = 3.139\n",
      "Epoch  95 Batch    5/13   train_loss = 3.164\n",
      "Epoch  96 Batch   12/13   train_loss = 3.154\n",
      "Epoch  98 Batch    6/13   train_loss = 3.066\n",
      "Epoch 100 Batch    0/13   train_loss = 3.015\n",
      "Epoch 101 Batch    7/13   train_loss = 2.989\n",
      "Epoch 103 Batch    1/13   train_loss = 2.971\n",
      "Epoch 104 Batch    8/13   train_loss = 2.942\n",
      "Epoch 106 Batch    2/13   train_loss = 2.950\n",
      "Epoch 107 Batch    9/13   train_loss = 2.910\n",
      "Epoch 109 Batch    3/13   train_loss = 2.900\n",
      "Epoch 110 Batch   10/13   train_loss = 2.875\n",
      "Epoch 112 Batch    4/13   train_loss = 2.834\n",
      "Epoch 113 Batch   11/13   train_loss = 2.816\n",
      "Epoch 115 Batch    5/13   train_loss = 2.849\n",
      "Epoch 116 Batch   12/13   train_loss = 2.835\n",
      "Epoch 118 Batch    6/13   train_loss = 2.738\n",
      "Epoch 120 Batch    0/13   train_loss = 2.704\n",
      "Epoch 121 Batch    7/13   train_loss = 2.687\n",
      "Epoch 123 Batch    1/13   train_loss = 2.679\n",
      "Epoch 124 Batch    8/13   train_loss = 2.669\n",
      "Epoch 126 Batch    2/13   train_loss = 2.713\n",
      "Epoch 127 Batch    9/13   train_loss = 2.652\n",
      "Epoch 129 Batch    3/13   train_loss = 2.637\n",
      "Epoch 130 Batch   10/13   train_loss = 2.614\n",
      "Epoch 132 Batch    4/13   train_loss = 2.552\n",
      "Epoch 133 Batch   11/13   train_loss = 2.536\n",
      "Epoch 135 Batch    5/13   train_loss = 2.571\n",
      "Epoch 136 Batch   12/13   train_loss = 2.553\n",
      "Epoch 138 Batch    6/13   train_loss = 2.453\n",
      "Epoch 140 Batch    0/13   train_loss = 2.427\n",
      "Epoch 141 Batch    7/13   train_loss = 2.401\n",
      "Epoch 143 Batch    1/13   train_loss = 2.402\n",
      "Epoch 144 Batch    8/13   train_loss = 2.385\n",
      "Epoch 146 Batch    2/13   train_loss = 2.415\n",
      "Epoch 147 Batch    9/13   train_loss = 2.348\n",
      "Epoch 149 Batch    3/13   train_loss = 2.360\n",
      "Epoch 150 Batch   10/13   train_loss = 2.323\n",
      "Epoch 152 Batch    4/13   train_loss = 2.293\n",
      "Epoch 153 Batch   11/13   train_loss = 2.286\n",
      "Epoch 155 Batch    5/13   train_loss = 2.334\n",
      "Epoch 156 Batch   12/13   train_loss = 2.304\n",
      "Epoch 158 Batch    6/13   train_loss = 2.195\n",
      "Epoch 160 Batch    0/13   train_loss = 2.182\n",
      "Epoch 161 Batch    7/13   train_loss = 2.165\n",
      "Epoch 163 Batch    1/13   train_loss = 2.172\n",
      "Epoch 164 Batch    8/13   train_loss = 2.153\n",
      "Epoch 166 Batch    2/13   train_loss = 2.183\n",
      "Epoch 167 Batch    9/13   train_loss = 2.118\n",
      "Epoch 169 Batch    3/13   train_loss = 2.135\n",
      "Epoch 170 Batch   10/13   train_loss = 2.083\n",
      "Epoch 172 Batch    4/13   train_loss = 2.060\n",
      "Epoch 173 Batch   11/13   train_loss = 2.039\n",
      "Epoch 175 Batch    5/13   train_loss = 2.082\n",
      "Epoch 176 Batch   12/13   train_loss = 2.054\n",
      "Epoch 178 Batch    6/13   train_loss = 1.957\n",
      "Epoch 180 Batch    0/13   train_loss = 1.951\n",
      "Epoch 181 Batch    7/13   train_loss = 1.932\n",
      "Epoch 183 Batch    1/13   train_loss = 1.930\n",
      "Epoch 184 Batch    8/13   train_loss = 1.920\n",
      "Epoch 186 Batch    2/13   train_loss = 1.947\n",
      "Epoch 187 Batch    9/13   train_loss = 1.877\n",
      "Epoch 189 Batch    3/13   train_loss = 1.893\n",
      "Epoch 190 Batch   10/13   train_loss = 1.851\n",
      "Epoch 192 Batch    4/13   train_loss = 1.838\n",
      "Epoch 193 Batch   11/13   train_loss = 1.804\n",
      "Epoch 195 Batch    5/13   train_loss = 1.849\n",
      "Epoch 196 Batch   12/13   train_loss = 1.823\n",
      "Epoch 198 Batch    6/13   train_loss = 1.735\n",
      "Epoch 200 Batch    0/13   train_loss = 1.753\n",
      "Epoch 201 Batch    7/13   train_loss = 1.740\n",
      "Epoch 203 Batch    1/13   train_loss = 1.757\n",
      "Epoch 204 Batch    8/13   train_loss = 1.761\n",
      "Epoch 206 Batch    2/13   train_loss = 1.794\n",
      "Epoch 207 Batch    9/13   train_loss = 1.711\n",
      "Epoch 209 Batch    3/13   train_loss = 1.713\n",
      "Epoch 210 Batch   10/13   train_loss = 1.672\n",
      "Epoch 212 Batch    4/13   train_loss = 1.653\n",
      "Epoch 213 Batch   11/13   train_loss = 1.603\n",
      "Epoch 215 Batch    5/13   train_loss = 1.642\n",
      "Epoch 216 Batch   12/13   train_loss = 1.614\n",
      "Epoch 218 Batch    6/13   train_loss = 1.539\n",
      "Epoch 220 Batch    0/13   train_loss = 1.564\n",
      "Epoch 221 Batch    7/13   train_loss = 1.535\n",
      "Epoch 223 Batch    1/13   train_loss = 1.544\n",
      "Epoch 224 Batch    8/13   train_loss = 1.544\n",
      "Epoch 226 Batch    2/13   train_loss = 1.577\n",
      "Epoch 227 Batch    9/13   train_loss = 1.507\n",
      "Epoch 229 Batch    3/13   train_loss = 1.523\n",
      "Epoch 230 Batch   10/13   train_loss = 1.487\n",
      "Epoch 232 Batch    4/13   train_loss = 1.481\n",
      "Epoch 233 Batch   11/13   train_loss = 1.439\n",
      "Epoch 235 Batch    5/13   train_loss = 1.484\n",
      "Epoch 236 Batch   12/13   train_loss = 1.455\n",
      "Epoch 238 Batch    6/13   train_loss = 1.376\n",
      "Epoch 240 Batch    0/13   train_loss = 1.403\n",
      "Epoch 241 Batch    7/13   train_loss = 1.375\n",
      "Epoch 243 Batch    1/13   train_loss = 1.384\n",
      "Epoch 244 Batch    8/13   train_loss = 1.386\n",
      "Epoch 246 Batch    2/13   train_loss = 1.423\n",
      "Epoch 247 Batch    9/13   train_loss = 1.367\n",
      "Epoch 249 Batch    3/13   train_loss = 1.374\n",
      "Epoch 250 Batch   10/13   train_loss = 1.335\n",
      "Epoch 252 Batch    4/13   train_loss = 1.331\n",
      "Epoch 253 Batch   11/13   train_loss = 1.287\n",
      "Epoch 255 Batch    5/13   train_loss = 1.321\n",
      "Epoch 256 Batch   12/13   train_loss = 1.283\n",
      "Epoch 258 Batch    6/13   train_loss = 1.226\n",
      "Epoch 260 Batch    0/13   train_loss = 1.263\n",
      "Epoch 261 Batch    7/13   train_loss = 1.241\n",
      "Epoch 263 Batch    1/13   train_loss = 1.249\n",
      "Epoch 264 Batch    8/13   train_loss = 1.248\n",
      "Epoch 266 Batch    2/13   train_loss = 1.274\n",
      "Epoch 267 Batch    9/13   train_loss = 1.223\n",
      "Epoch 269 Batch    3/13   train_loss = 1.245\n",
      "Epoch 270 Batch   10/13   train_loss = 1.182\n",
      "Epoch 272 Batch    4/13   train_loss = 1.186\n",
      "Epoch 273 Batch   11/13   train_loss = 1.145\n",
      "Epoch 275 Batch    5/13   train_loss = 1.184\n",
      "Epoch 276 Batch   12/13   train_loss = 1.157\n",
      "Epoch 278 Batch    6/13   train_loss = 1.106\n",
      "Epoch 280 Batch    0/13   train_loss = 1.139\n",
      "Epoch 281 Batch    7/13   train_loss = 1.096\n",
      "Epoch 283 Batch    1/13   train_loss = 1.106\n",
      "Epoch 284 Batch    8/13   train_loss = 1.114\n",
      "Epoch 286 Batch    2/13   train_loss = 1.130\n",
      "Epoch 287 Batch    9/13   train_loss = 1.079\n",
      "Epoch 289 Batch    3/13   train_loss = 1.108\n",
      "Epoch 290 Batch   10/13   train_loss = 1.047\n",
      "Epoch 292 Batch    4/13   train_loss = 1.059\n",
      "Epoch 293 Batch   11/13   train_loss = 1.027\n",
      "Epoch 295 Batch    5/13   train_loss = 1.057\n",
      "Epoch 296 Batch   12/13   train_loss = 1.026\n",
      "Epoch 298 Batch    6/13   train_loss = 0.986\n",
      "Epoch 300 Batch    0/13   train_loss = 1.019\n",
      "Epoch 301 Batch    7/13   train_loss = 0.977\n",
      "Epoch 303 Batch    1/13   train_loss = 0.992\n",
      "Epoch 304 Batch    8/13   train_loss = 0.997\n",
      "Epoch 306 Batch    2/13   train_loss = 1.015\n",
      "Epoch 307 Batch    9/13   train_loss = 0.981\n",
      "Epoch 309 Batch    3/13   train_loss = 0.999\n",
      "Epoch 310 Batch   10/13   train_loss = 0.946\n",
      "Epoch 312 Batch    4/13   train_loss = 0.951\n",
      "Epoch 313 Batch   11/13   train_loss = 0.907\n",
      "Epoch 315 Batch    5/13   train_loss = 0.944\n",
      "Epoch 316 Batch   12/13   train_loss = 0.909\n",
      "Epoch 318 Batch    6/13   train_loss = 0.881\n",
      "Epoch 320 Batch    0/13   train_loss = 0.911\n",
      "Epoch 321 Batch    7/13   train_loss = 0.871\n",
      "Epoch 323 Batch    1/13   train_loss = 0.890\n",
      "Epoch 324 Batch    8/13   train_loss = 0.896\n",
      "Epoch 326 Batch    2/13   train_loss = 0.903\n",
      "Epoch 327 Batch    9/13   train_loss = 0.867\n",
      "Epoch 329 Batch    3/13   train_loss = 0.889\n",
      "Epoch 330 Batch   10/13   train_loss = 0.838\n",
      "Epoch 332 Batch    4/13   train_loss = 0.853\n",
      "Epoch 333 Batch   11/13   train_loss = 0.812\n",
      "Epoch 335 Batch    5/13   train_loss = 0.840\n",
      "Epoch 336 Batch   12/13   train_loss = 0.807\n",
      "Epoch 338 Batch    6/13   train_loss = 0.784\n",
      "Epoch 340 Batch    0/13   train_loss = 0.813\n",
      "Epoch 341 Batch    7/13   train_loss = 0.784\n",
      "Epoch 343 Batch    1/13   train_loss = 0.802\n",
      "Epoch 344 Batch    8/13   train_loss = 0.801\n",
      "Epoch 346 Batch    2/13   train_loss = 0.808\n",
      "Epoch 347 Batch    9/13   train_loss = 0.774\n",
      "Epoch 349 Batch    3/13   train_loss = 0.794\n",
      "Epoch 350 Batch   10/13   train_loss = 0.749\n",
      "Epoch 352 Batch    4/13   train_loss = 0.763\n",
      "Epoch 353 Batch   11/13   train_loss = 0.741\n",
      "Epoch 355 Batch    5/13   train_loss = 0.768\n",
      "Epoch 356 Batch   12/13   train_loss = 0.746\n",
      "Epoch 358 Batch    6/13   train_loss = 0.724\n",
      "Epoch 360 Batch    0/13   train_loss = 0.778\n",
      "Epoch 361 Batch    7/13   train_loss = 0.768\n",
      "Epoch 363 Batch    1/13   train_loss = 0.787\n",
      "Epoch 364 Batch    8/13   train_loss = 0.757\n",
      "Epoch 366 Batch    2/13   train_loss = 0.760\n",
      "Epoch 367 Batch    9/13   train_loss = 0.708\n",
      "Epoch 369 Batch    3/13   train_loss = 0.718\n",
      "Epoch 370 Batch   10/13   train_loss = 0.665\n",
      "Epoch 372 Batch    4/13   train_loss = 0.673\n",
      "Epoch 373 Batch   11/13   train_loss = 0.644\n",
      "Epoch 375 Batch    5/13   train_loss = 0.663\n",
      "Epoch 376 Batch   12/13   train_loss = 0.639\n",
      "Epoch 378 Batch    6/13   train_loss = 0.622\n",
      "Epoch 380 Batch    0/13   train_loss = 0.653\n",
      "Epoch 381 Batch    7/13   train_loss = 0.623\n",
      "Epoch 383 Batch    1/13   train_loss = 0.635\n",
      "Epoch 384 Batch    8/13   train_loss = 0.641\n",
      "Epoch 386 Batch    2/13   train_loss = 0.644\n",
      "Epoch 387 Batch    9/13   train_loss = 0.627\n",
      "Epoch 389 Batch    3/13   train_loss = 0.650\n",
      "Epoch 390 Batch   10/13   train_loss = 0.610\n",
      "Epoch 392 Batch    4/13   train_loss = 0.627\n",
      "Epoch 393 Batch   11/13   train_loss = 0.593\n",
      "Epoch 395 Batch    5/13   train_loss = 0.615\n",
      "Epoch 396 Batch   12/13   train_loss = 0.594\n",
      "Epoch 398 Batch    6/13   train_loss = 0.580\n",
      "Epoch 400 Batch    0/13   train_loss = 0.603\n",
      "Epoch 401 Batch    7/13   train_loss = 0.569\n",
      "Epoch 403 Batch    1/13   train_loss = 0.584\n",
      "Epoch 404 Batch    8/13   train_loss = 0.590\n",
      "Epoch 406 Batch    2/13   train_loss = 0.588\n",
      "Epoch 407 Batch    9/13   train_loss = 0.573\n",
      "Epoch 409 Batch    3/13   train_loss = 0.592\n",
      "Epoch 410 Batch   10/13   train_loss = 0.556\n",
      "Epoch 412 Batch    4/13   train_loss = 0.560\n",
      "Epoch 413 Batch   11/13   train_loss = 0.533\n",
      "Epoch 415 Batch    5/13   train_loss = 0.566\n",
      "Epoch 416 Batch   12/13   train_loss = 0.548\n",
      "Epoch 418 Batch    6/13   train_loss = 0.540\n",
      "Epoch 420 Batch    0/13   train_loss = 0.558\n",
      "Epoch 421 Batch    7/13   train_loss = 0.522\n",
      "Epoch 423 Batch    1/13   train_loss = 0.541\n",
      "Epoch 424 Batch    8/13   train_loss = 0.539\n",
      "Epoch 426 Batch    2/13   train_loss = 0.523\n",
      "Epoch 427 Batch    9/13   train_loss = 0.505\n",
      "Epoch 429 Batch    3/13   train_loss = 0.524\n",
      "Epoch 430 Batch   10/13   train_loss = 0.484\n",
      "Epoch 432 Batch    4/13   train_loss = 0.493\n",
      "Epoch 433 Batch   11/13   train_loss = 0.472\n",
      "Epoch 435 Batch    5/13   train_loss = 0.484\n",
      "Epoch 436 Batch   12/13   train_loss = 0.469\n",
      "Epoch 438 Batch    6/13   train_loss = 0.461\n",
      "Epoch 440 Batch    0/13   train_loss = 0.482\n",
      "Epoch 441 Batch    7/13   train_loss = 0.464\n",
      "Epoch 443 Batch    1/13   train_loss = 0.474\n",
      "Epoch 444 Batch    8/13   train_loss = 0.482\n",
      "Epoch 446 Batch    2/13   train_loss = 0.472\n",
      "Epoch 447 Batch    9/13   train_loss = 0.460\n",
      "Epoch 449 Batch    3/13   train_loss = 0.487\n",
      "Epoch 450 Batch   10/13   train_loss = 0.454\n",
      "Epoch 452 Batch    4/13   train_loss = 0.456\n",
      "Epoch 453 Batch   11/13   train_loss = 0.440\n",
      "Epoch 455 Batch    5/13   train_loss = 0.452\n",
      "Epoch 456 Batch   12/13   train_loss = 0.435\n",
      "Epoch 458 Batch    6/13   train_loss = 0.426\n",
      "Epoch 460 Batch    0/13   train_loss = 0.455\n",
      "Epoch 461 Batch    7/13   train_loss = 0.446\n",
      "Epoch 463 Batch    1/13   train_loss = 0.449\n",
      "Epoch 464 Batch    8/13   train_loss = 0.458\n",
      "Epoch 466 Batch    2/13   train_loss = 0.486\n",
      "Epoch 467 Batch    9/13   train_loss = 0.445\n",
      "Epoch 469 Batch    3/13   train_loss = 0.458\n",
      "Epoch 470 Batch   10/13   train_loss = 0.429\n",
      "Epoch 472 Batch    4/13   train_loss = 0.413\n",
      "Epoch 473 Batch   11/13   train_loss = 0.387\n",
      "Epoch 475 Batch    5/13   train_loss = 0.397\n",
      "Epoch 476 Batch   12/13   train_loss = 0.381\n",
      "Epoch 478 Batch    6/13   train_loss = 0.373\n",
      "Epoch 480 Batch    0/13   train_loss = 0.394\n",
      "Epoch 481 Batch    7/13   train_loss = 0.376\n",
      "Epoch 483 Batch    1/13   train_loss = 0.387\n",
      "Epoch 484 Batch    8/13   train_loss = 0.393\n",
      "Epoch 486 Batch    2/13   train_loss = 0.389\n",
      "Epoch 487 Batch    9/13   train_loss = 0.380\n",
      "Epoch 489 Batch    3/13   train_loss = 0.404\n",
      "Epoch 490 Batch   10/13   train_loss = 0.375\n",
      "Epoch 492 Batch    4/13   train_loss = 0.375\n",
      "Epoch 493 Batch   11/13   train_loss = 0.353\n",
      "Epoch 495 Batch    5/13   train_loss = 0.366\n",
      "Epoch 496 Batch   12/13   train_loss = 0.360\n",
      "Epoch 498 Batch    6/13   train_loss = 0.358\n",
      "Epoch 500 Batch    0/13   train_loss = 0.376\n",
      "Epoch 501 Batch    7/13   train_loss = 0.368\n",
      "Epoch 503 Batch    1/13   train_loss = 0.369\n",
      "Epoch 504 Batch    8/13   train_loss = 0.381\n",
      "Epoch 506 Batch    2/13   train_loss = 0.373\n",
      "Epoch 507 Batch    9/13   train_loss = 0.376\n",
      "Epoch 509 Batch    3/13   train_loss = 0.375\n",
      "Epoch 510 Batch   10/13   train_loss = 0.349\n",
      "Epoch 512 Batch    4/13   train_loss = 0.357\n",
      "Epoch 513 Batch   11/13   train_loss = 0.329\n",
      "Epoch 515 Batch    5/13   train_loss = 0.336\n",
      "Epoch 516 Batch   12/13   train_loss = 0.319\n",
      "Epoch 518 Batch    6/13   train_loss = 0.310\n",
      "Epoch 520 Batch    0/13   train_loss = 0.323\n",
      "Epoch 521 Batch    7/13   train_loss = 0.313\n",
      "Epoch 523 Batch    1/13   train_loss = 0.321\n",
      "Epoch 524 Batch    8/13   train_loss = 0.324\n",
      "Epoch 526 Batch    2/13   train_loss = 0.314\n",
      "Epoch 527 Batch    9/13   train_loss = 0.311\n",
      "Epoch 529 Batch    3/13   train_loss = 0.327\n",
      "Epoch 530 Batch   10/13   train_loss = 0.305\n",
      "Epoch 532 Batch    4/13   train_loss = 0.311\n",
      "Epoch 533 Batch   11/13   train_loss = 0.297\n",
      "Epoch 535 Batch    5/13   train_loss = 0.304\n",
      "Epoch 536 Batch   12/13   train_loss = 0.295\n",
      "Epoch 538 Batch    6/13   train_loss = 0.289\n",
      "Epoch 540 Batch    0/13   train_loss = 0.299\n",
      "Epoch 541 Batch    7/13   train_loss = 0.293\n",
      "Epoch 543 Batch    1/13   train_loss = 0.302\n",
      "Epoch 544 Batch    8/13   train_loss = 0.307\n",
      "Epoch 546 Batch    2/13   train_loss = 0.295\n",
      "Epoch 547 Batch    9/13   train_loss = 0.293\n",
      "Epoch 549 Batch    3/13   train_loss = 0.308\n",
      "Epoch 550 Batch   10/13   train_loss = 0.296\n",
      "Epoch 552 Batch    4/13   train_loss = 0.299\n",
      "Epoch 553 Batch   11/13   train_loss = 0.287\n",
      "Epoch 555 Batch    5/13   train_loss = 0.295\n",
      "Epoch 556 Batch   12/13   train_loss = 0.281\n",
      "Epoch 558 Batch    6/13   train_loss = 0.275\n",
      "Epoch 560 Batch    0/13   train_loss = 0.279\n",
      "Epoch 561 Batch    7/13   train_loss = 0.277\n",
      "Epoch 563 Batch    1/13   train_loss = 0.280\n",
      "Epoch 564 Batch    8/13   train_loss = 0.281\n",
      "Epoch 566 Batch    2/13   train_loss = 0.271\n",
      "Epoch 567 Batch    9/13   train_loss = 0.271\n",
      "Epoch 569 Batch    3/13   train_loss = 0.284\n",
      "Epoch 570 Batch   10/13   train_loss = 0.266\n",
      "Epoch 572 Batch    4/13   train_loss = 0.263\n",
      "Epoch 573 Batch   11/13   train_loss = 0.254\n",
      "Epoch 575 Batch    5/13   train_loss = 0.258\n",
      "Epoch 576 Batch   12/13   train_loss = 0.253\n",
      "Epoch 578 Batch    6/13   train_loss = 0.251\n",
      "Epoch 580 Batch    0/13   train_loss = 0.262\n",
      "Epoch 581 Batch    7/13   train_loss = 0.261\n",
      "Epoch 583 Batch    1/13   train_loss = 0.268\n",
      "Epoch 584 Batch    8/13   train_loss = 0.275\n",
      "Epoch 586 Batch    2/13   train_loss = 0.268\n",
      "Epoch 587 Batch    9/13   train_loss = 0.284\n",
      "Epoch 589 Batch    3/13   train_loss = 0.311\n",
      "Epoch 590 Batch   10/13   train_loss = 0.285\n",
      "Epoch 592 Batch    4/13   train_loss = 0.264\n",
      "Epoch 593 Batch   11/13   train_loss = 0.262\n",
      "Epoch 595 Batch    5/13   train_loss = 0.261\n",
      "Epoch 596 Batch   12/13   train_loss = 0.249\n",
      "Epoch 598 Batch    6/13   train_loss = 0.235\n",
      "Model Trained and Saved\n"
     ]
    }
   ],
   "source": [
    "\"\"\"\n",
    "DON'T MODIFY ANYTHING IN THIS CELL\n",
    "\"\"\"\n",
    "batches = get_batches(int_text, batch_size, seq_length)\n",
    "\n",
    "with tf.Session(graph=train_graph) as sess:\n",
    "    sess.run(tf.global_variables_initializer())\n",
    "\n",
    "    for epoch_i in range(num_epochs):\n",
    "        state = sess.run(initial_state, {input_text: batches[0][0]})\n",
    "\n",
    "        for batch_i, (x, y) in enumerate(batches):\n",
    "            feed = {\n",
    "                input_text: x,\n",
    "                targets: y,\n",
    "                initial_state: state,\n",
    "                lr: learning_rate}\n",
    "            train_loss, state, _ = sess.run([cost, final_state, train_op], feed)\n",
    "\n",
    "            # Show every <show_every_n_batches> batches\n",
    "            if (epoch_i * len(batches) + batch_i) % show_every_n_batches == 0:\n",
    "                print('Epoch {:>3} Batch {:>4}/{}   train_loss = {:.3f}'.format(\n",
    "                    epoch_i,\n",
    "                    batch_i,\n",
    "                    len(batches),\n",
    "                    train_loss))\n",
    "\n",
    "    # Save Model\n",
    "    saver = tf.train.Saver()\n",
    "    saver.save(sess, save_dir)\n",
    "    print('Model Trained and Saved')"
   ]
  },
  {
   "cell_type": "markdown",
   "metadata": {
    "deletable": true,
    "editable": true
   },
   "source": [
    "## Save Parameters\n",
    "Save `seq_length` and `save_dir` for generating a new TV script."
   ]
  },
  {
   "cell_type": "code",
   "execution_count": 153,
   "metadata": {
    "collapsed": false,
    "deletable": true,
    "editable": true
   },
   "outputs": [],
   "source": [
    "\"\"\"\n",
    "DON'T MODIFY ANYTHING IN THIS CELL\n",
    "\"\"\"\n",
    "# Save parameters for checkpoint\n",
    "helper.save_params((seq_length, save_dir))"
   ]
  },
  {
   "cell_type": "markdown",
   "metadata": {
    "deletable": true,
    "editable": true
   },
   "source": [
    "# Checkpoint"
   ]
  },
  {
   "cell_type": "code",
   "execution_count": 154,
   "metadata": {
    "collapsed": false,
    "deletable": true,
    "editable": true
   },
   "outputs": [],
   "source": [
    "\"\"\"\n",
    "DON'T MODIFY ANYTHING IN THIS CELL\n",
    "\"\"\"\n",
    "import tensorflow as tf\n",
    "import numpy as np\n",
    "import helper\n",
    "import problem_unittests as tests\n",
    "\n",
    "_, vocab_to_int, int_to_vocab, token_dict = helper.load_preprocess()\n",
    "seq_length, load_dir = helper.load_params()"
   ]
  },
  {
   "cell_type": "markdown",
   "metadata": {
    "deletable": true,
    "editable": true
   },
   "source": [
    "## Implement Generate Functions\n",
    "### Get Tensors\n",
    "Get tensors from `loaded_graph` using the function [`get_tensor_by_name()`](https://www.tensorflow.org/api_docs/python/tf/Graph#get_tensor_by_name).  Get the tensors using the following names:\n",
    "- \"input:0\"\n",
    "- \"initial_state:0\"\n",
    "- \"final_state:0\"\n",
    "- \"probs:0\"\n",
    "\n",
    "Return the tensors in the following tuple `(InputTensor, InitialStateTensor, FinalStateTensor, ProbsTensor)` "
   ]
  },
  {
   "cell_type": "code",
   "execution_count": 155,
   "metadata": {
    "collapsed": false,
    "deletable": true,
    "editable": true
   },
   "outputs": [
    {
     "name": "stdout",
     "output_type": "stream",
     "text": [
      "Tests Passed\n"
     ]
    }
   ],
   "source": [
    "def get_tensors(loaded_graph):\n",
    "    \"\"\"\n",
    "    Get input, initial state, final state, and probabilities tensor from <loaded_graph>\n",
    "    :param loaded_graph: TensorFlow graph loaded from file\n",
    "    :return: Tuple (InputTensor, InitialStateTensor, FinalStateTensor, ProbsTensor)\n",
    "    \"\"\"\n",
    "    # TODO: Implement Function\n",
    "    InputTensor = loaded_graph.get_tensor_by_name(\"input:0\")\n",
    "    InitialStateTensor = loaded_graph.get_tensor_by_name(\"initial_state:0\")\n",
    "    FinalStateTensor = loaded_graph.get_tensor_by_name(\"final_state:0\")\n",
    "    ProbsTensor = loaded_graph.get_tensor_by_name(\"probs:0\")\n",
    "    return InputTensor, InitialStateTensor, FinalStateTensor, ProbsTensor\n",
    "\n",
    "\n",
    "\"\"\"\n",
    "DON'T MODIFY ANYTHING IN THIS CELL THAT IS BELOW THIS LINE\n",
    "\"\"\"\n",
    "tests.test_get_tensors(get_tensors)"
   ]
  },
  {
   "cell_type": "markdown",
   "metadata": {
    "deletable": true,
    "editable": true
   },
   "source": [
    "### Choose Word\n",
    "Implement the `pick_word()` function to select the next word using `probabilities`."
   ]
  },
  {
   "cell_type": "code",
   "execution_count": 156,
   "metadata": {
    "collapsed": false,
    "deletable": true,
    "editable": true
   },
   "outputs": [
    {
     "name": "stdout",
     "output_type": "stream",
     "text": [
      "Tests Passed\n"
     ]
    }
   ],
   "source": [
    "def pick_word(probabilities, int_to_vocab):\n",
    "    \"\"\"\n",
    "    Pick the next word in the generated text\n",
    "    :param probabilities: Probabilites of the next word\n",
    "    :param int_to_vocab: Dictionary of word ids as the keys and words as the values\n",
    "    :return: String of the predicted word\n",
    "    \"\"\"\n",
    "    # TODO: Implement Functio\n",
    "    #print(int_to_vocab.values())\n",
    "    #word_num = np.argmax(probabilities)\n",
    "    word = np.random.choice(list(int_to_vocab.values()),replace=False,p=probabilities)\n",
    "    return word\n",
    "\n",
    "\n",
    "\"\"\"\n",
    "DON'T MODIFY ANYTHING IN THIS CELL THAT IS BELOW THIS LINE\n",
    "\"\"\"\n",
    "tests.test_pick_word(pick_word)"
   ]
  },
  {
   "cell_type": "markdown",
   "metadata": {
    "deletable": true,
    "editable": true
   },
   "source": [
    "## Generate TV Script\n",
    "This will generate the TV script for you.  Set `gen_length` to the length of TV script you want to generate."
   ]
  },
  {
   "cell_type": "code",
   "execution_count": 157,
   "metadata": {
    "collapsed": false,
    "deletable": true,
    "editable": true
   },
   "outputs": [
    {
     "name": "stdout",
     "output_type": "stream",
     "text": [
      "moe_szyslak: oh, hey, hey, hey, hey, hey! you didn't know your buddy, you're the money you blew, go on the card... did that just sits there all these men i'm the people, of course.\n",
      "barflies:(nervous chuckle) i didn't.\n",
      "moe_szyslak: you're the sorry are we saved your ass in here.\n",
      "moe_szyslak:(looking to self) i'll kill you go with the first of things always have to go up with that!\n",
      "artie_ziff: no... moe cure that's place that gold, ya cockroaches?\n",
      "lenny_leonard: it's the first place than i want\"?\n",
      "homer_simpson:(explaining) he's not your normal effervescent self.\n",
      "homer_simpson:(still cool) ayyy.\n",
      "homer_simpson: yello?\n",
      "bart_simpson: yeah, we all wanna come on, homer.\n",
      "moe_szyslak:(stunned) oh my new, you could do worse...\n",
      "moe_szyslak: ah, well homer, don't tell anyone.\n",
      "lenny_leonard: what a marshmallow.\n",
      "homer_simpson: because when vance beat me for you to take the\n"
     ]
    }
   ],
   "source": [
    "gen_length = 200\n",
    "# homer_simpson, moe_szyslak, or Barney_Gumble\n",
    "prime_word = 'moe_szyslak'\n",
    "\n",
    "\"\"\"\n",
    "DON'T MODIFY ANYTHING IN THIS CELL THAT IS BELOW THIS LINE\n",
    "\"\"\"\n",
    "loaded_graph = tf.Graph()\n",
    "with tf.Session(graph=loaded_graph) as sess:\n",
    "    # Load saved model\n",
    "    loader = tf.train.import_meta_graph(load_dir + '.meta')\n",
    "    loader.restore(sess, load_dir)\n",
    "\n",
    "    # Get Tensors from loaded model\n",
    "    input_text, initial_state, final_state, probs = get_tensors(loaded_graph)\n",
    "\n",
    "    # Sentences generation setup\n",
    "    gen_sentences = [prime_word + ':']\n",
    "    prev_state = sess.run(initial_state, {input_text: np.array([[1]])})\n",
    "\n",
    "    # Generate sentences\n",
    "    for n in range(gen_length):\n",
    "        # Dynamic Input\n",
    "        dyn_input = [[vocab_to_int[word] for word in gen_sentences[-seq_length:]]]\n",
    "        dyn_seq_length = len(dyn_input[0])\n",
    "\n",
    "        # Get Prediction\n",
    "        probabilities, prev_state = sess.run(\n",
    "            [probs, final_state],\n",
    "            {input_text: dyn_input, initial_state: prev_state})\n",
    "        \n",
    "        pred_word = pick_word(probabilities[dyn_seq_length-1], int_to_vocab)\n",
    "\n",
    "        gen_sentences.append(pred_word)\n",
    "    \n",
    "    # Remove tokens\n",
    "    tv_script = ' '.join(gen_sentences)\n",
    "    for key, token in token_dict.items():\n",
    "        ending = ' ' if key in ['\\n', '(', '\"'] else ''\n",
    "        tv_script = tv_script.replace(' ' + token.lower(), key)\n",
    "    tv_script = tv_script.replace('\\n ', '\\n')\n",
    "    tv_script = tv_script.replace('( ', '(')\n",
    "        \n",
    "    print(tv_script)"
   ]
  },
  {
   "cell_type": "markdown",
   "metadata": {
    "deletable": true,
    "editable": true
   },
   "source": [
    "# The TV Script is Nonsensical\n",
    "It's ok if the TV script doesn't make any sense.  We trained on less than a megabyte of text.  In order to get good results, you'll have to use a smaller vocabulary or get more data.  Luckly there's more data!  As we mentioned in the begging of this project, this is a subset of [another dataset](https://www.kaggle.com/wcukierski/the-simpsons-by-the-data).  We didn't have you train on all the data, because that would take too long.  However, you are free to train your neural network on all the data.  After you complete the project, of course.\n",
    "# Submitting This Project\n",
    "When submitting this project, make sure to run all the cells before saving the notebook. Save the notebook file as \"dlnd_tv_script_generation.ipynb\" and save it as a HTML file under \"File\" -> \"Download as\". Include the \"helper.py\" and \"problem_unittests.py\" files in your submission."
   ]
  },
  {
   "cell_type": "code",
   "execution_count": null,
   "metadata": {
    "collapsed": true,
    "deletable": true,
    "editable": true
   },
   "outputs": [],
   "source": []
  }
 ],
 "metadata": {
  "anaconda-cloud": {},
  "kernelspec": {
   "display_name": "Python 3",
   "language": "python",
   "name": "python3"
  },
  "language_info": {
   "codemirror_mode": {
    "name": "ipython",
    "version": 3
   },
   "file_extension": ".py",
   "mimetype": "text/x-python",
   "name": "python",
   "nbconvert_exporter": "python",
   "pygments_lexer": "ipython3",
   "version": "3.5.4"
  }
 },
 "nbformat": 4,
 "nbformat_minor": 0
}

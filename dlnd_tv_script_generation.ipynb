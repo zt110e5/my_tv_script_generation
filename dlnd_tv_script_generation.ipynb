{
 "cells": [
  {
   "cell_type": "markdown",
   "metadata": {
    "deletable": true,
    "editable": true
   },
   "source": [
    "# TV Script Generation\n",
    "In this project, you'll generate your own [Simpsons](https://en.wikipedia.org/wiki/The_Simpsons) TV scripts using RNNs.  You'll be using part of the [Simpsons dataset](https://www.kaggle.com/wcukierski/the-simpsons-by-the-data) of scripts from 27 seasons.  The Neural Network you'll build will generate a new TV script for a scene at [Moe's Tavern](https://simpsonswiki.com/wiki/Moe's_Tavern).\n",
    "## Get the Data\n",
    "The data is already provided for you.  You'll be using a subset of the original dataset.  It consists of only the scenes in Moe's Tavern.  This doesn't include other versions of the tavern, like \"Moe's Cavern\", \"Flaming Moe's\", \"Uncle Moe's Family Feed-Bag\", etc.."
   ]
  },
  {
   "cell_type": "code",
   "execution_count": 1,
   "metadata": {
    "collapsed": false,
    "deletable": true,
    "editable": true
   },
   "outputs": [],
   "source": [
    "\"\"\"\n",
    "DON'T MODIFY ANYTHING IN THIS CELL\n",
    "\"\"\"\n",
    "import helper\n",
    "import tensorflow as tf\n",
    "data_dir = './data/simpsons/moes_tavern_lines.txt'\n",
    "text = helper.load_data(data_dir)\n",
    "# Ignore notice, since we don't use it for analysing the data\n",
    "text = text[81:]"
   ]
  },
  {
   "cell_type": "markdown",
   "metadata": {
    "deletable": true,
    "editable": true
   },
   "source": [
    "## Explore the Data\n",
    "Play around with `view_sentence_range` to view different parts of the data."
   ]
  },
  {
   "cell_type": "code",
   "execution_count": 2,
   "metadata": {
    "collapsed": false,
    "deletable": true,
    "editable": true
   },
   "outputs": [
    {
     "name": "stdout",
     "output_type": "stream",
     "text": [
      "Dataset Stats\n",
      "Roughly the number of unique words: 11492\n",
      "Number of scenes: 262\n",
      "Average number of sentences in each scene: 15.248091603053435\n",
      "Number of lines: 4257\n",
      "Average number of words in each line: 11.50434578341555\n",
      "\n",
      "The sentences 0 to 10:\n",
      "Moe_Szyslak: (INTO PHONE) Moe's Tavern. Where the elite meet to drink.\n",
      "Bart_Simpson: Eh, yeah, hello, is Mike there? Last name, Rotch.\n",
      "Moe_Szyslak: (INTO PHONE) Hold on, I'll check. (TO BARFLIES) Mike Rotch. Mike Rotch. Hey, has anybody seen Mike Rotch, lately?\n",
      "Moe_Szyslak: (INTO PHONE) Listen you little puke. One of these days I'm gonna catch you, and I'm gonna carve my name on your back with an ice pick.\n",
      "Moe_Szyslak: What's the matter Homer? You're not your normal effervescent self.\n",
      "Homer_Simpson: I got my problems, Moe. Give me another one.\n",
      "Moe_Szyslak: Homer, hey, you should not drink to forget your problems.\n",
      "Barney_Gumble: Yeah, you should only drink to enhance your social skills.\n",
      "\n",
      "\n"
     ]
    }
   ],
   "source": [
    "view_sentence_range = (0, 10)\n",
    "\n",
    "\"\"\"\n",
    "DON'T MODIFY ANYTHING IN THIS CELL\n",
    "\"\"\"\n",
    "import numpy as np\n",
    "\n",
    "print('Dataset Stats')\n",
    "print('Roughly the number of unique words: {}'.format(len({word: None for word in text.split()})))\n",
    "scenes = text.split('\\n\\n')\n",
    "print('Number of scenes: {}'.format(len(scenes)))\n",
    "sentence_count_scene = [scene.count('\\n') for scene in scenes]\n",
    "print('Average number of sentences in each scene: {}'.format(np.average(sentence_count_scene)))\n",
    "\n",
    "sentences = [sentence for scene in scenes for sentence in scene.split('\\n')]\n",
    "print('Number of lines: {}'.format(len(sentences)))\n",
    "word_count_sentence = [len(sentence.split()) for sentence in sentences]\n",
    "print('Average number of words in each line: {}'.format(np.average(word_count_sentence)))\n",
    "\n",
    "print()\n",
    "print('The sentences {} to {}:'.format(*view_sentence_range))\n",
    "print('\\n'.join(text.split('\\n')[view_sentence_range[0]:view_sentence_range[1]]))"
   ]
  },
  {
   "cell_type": "markdown",
   "metadata": {
    "deletable": true,
    "editable": true
   },
   "source": [
    "## Implement Preprocessing Functions\n",
    "The first thing to do to any dataset is preprocessing.  Implement the following preprocessing functions below:\n",
    "- Lookup Table    #查阅数据表\n",
    "- Tokenize Punctuation  #将标点符号标记化\n",
    "\n",
    "### Lookup Table\n",
    "To create a word embedding, you first need to transform the words to ids.  In this function, create two dictionaries:\n",
    "- Dictionary to go from the words to an id, we'll call `vocab_to_int`\n",
    "- Dictionary to go from the id to word, we'll call `int_to_vocab`\n",
    "\n",
    "Return these dictionaries in the following tuple `(vocab_to_int, int_to_vocab)`"
   ]
  },
  {
   "cell_type": "code",
   "execution_count": 3,
   "metadata": {
    "collapsed": false,
    "deletable": true,
    "editable": true
   },
   "outputs": [
    {
     "name": "stdout",
     "output_type": "stream",
     "text": [
      "<enumerate object at 0x7fa1d8557af8>\n",
      "(0, 's')\n"
     ]
    }
   ],
   "source": [
    "s = 'spam'\n",
    "e = enumerate(s)\n",
    "print(e)\n",
    "print(next(e))\n"
   ]
  },
  {
   "cell_type": "code",
   "execution_count": 4,
   "metadata": {
    "collapsed": false,
    "deletable": true,
    "editable": true
   },
   "outputs": [
    {
     "name": "stdout",
     "output_type": "stream",
     "text": [
      "Tests Passed\n"
     ]
    }
   ],
   "source": [
    "import numpy as np\n",
    "import problem_unittests as tests\n",
    "from collections import Counter\n",
    "\n",
    "def create_lookup_tables(text):\n",
    "    \"\"\"\n",
    "    Create lookup tables for vocabulary\n",
    "    :param text: The text of tv scripts split into words\n",
    "    :return: A tuple of dicts (vocab_to_int, int_to_vocab)\n",
    "    \"\"\"\n",
    "    # TODO: Implement Function\n",
    "    #vocabs = set(text)\n",
    "    '''\n",
    "    vocab_to_int = {}\n",
    "    int_to_vocab = {}\n",
    "    int_num = 0\n",
    "    for item in vocabs:\n",
    "        vocab_to_int[item] = int_num\n",
    "        int_num += 1\n",
    "    for item in vocabs:\n",
    "        int_to_vocab[int_num] = item\n",
    "        int_num += 1\n",
    "    '''\n",
    "    '''\n",
    "    vocabs = set(text)\n",
    "    vocab_to_int = {word : int_num for int_num,word in enumerate(vocabs)}\n",
    "    int_to_vocab = {int_num : word for int_num,word in enumerate(vocabs)}\n",
    "    '''\n",
    "    counts = Counter(text)\n",
    "    vocabs = sorted(counts,key=counts.get,reverse=True)\n",
    "    vocab_to_int = {word : int_num for int_num,word in enumerate(vocabs)}\n",
    "    int_to_vocab = {int_num : word for int_num,word in enumerate(vocabs)}\n",
    "    return vocab_to_int, int_to_vocab\n",
    "\n",
    "\n",
    "\"\"\"\n",
    "DON'T MODIFY ANYTHING IN THIS CELL THAT IS BELOW THIS LINE\n",
    "\"\"\"\n",
    "tests.test_create_lookup_tables(create_lookup_tables)"
   ]
  },
  {
   "cell_type": "code",
   "execution_count": 5,
   "metadata": {
    "collapsed": false,
    "deletable": true,
    "editable": true
   },
   "outputs": [
    {
     "name": "stdout",
     "output_type": "stream",
     "text": [
      "1.0.0\n"
     ]
    }
   ],
   "source": [
    "import tensorflow as tf\n",
    "print(tf.__version__)"
   ]
  },
  {
   "cell_type": "markdown",
   "metadata": {
    "deletable": true,
    "editable": true
   },
   "source": [
    "### Tokenize Punctuation\n",
    "We'll be splitting the script into a word array using spaces as delimiters.  However, punctuations like periods and exclamation marks make it hard for the neural network to distinguish between the word \"bye\" and \"bye!\".\n",
    "\n",
    "Implement the function `token_lookup` to return a dict that will be used to tokenize symbols like \"!\" into \"||Exclamation_Mark||\".  Create a dictionary for the following symbols where the symbol is the key and value is the token:\n",
    "- Period ( . )\n",
    "- Comma ( , )\n",
    "- Quotation Mark ( \" )\n",
    "- Semicolon ( ; )\n",
    "- Exclamation mark ( ! )\n",
    "- Question mark ( ? )\n",
    "- Left Parentheses ( ( )\n",
    "- Right Parentheses ( ) )\n",
    "- Dash ( -- )\n",
    "- Return ( \\n )\n",
    "\n",
    "This dictionary will be used to token the symbols and add the delimiter (space) around it.  This separates the symbols as it's own word, making it easier for the neural network to predict on the next word. Make sure you don't use a token that could be confused as a word. Instead of using the token \"dash\", try using something like \"||dash||\"."
   ]
  },
  {
   "cell_type": "code",
   "execution_count": 6,
   "metadata": {
    "collapsed": false,
    "deletable": true,
    "editable": true
   },
   "outputs": [
    {
     "name": "stdout",
     "output_type": "stream",
     "text": [
      "Tests Passed\n"
     ]
    }
   ],
   "source": [
    "def token_lookup():\n",
    "    \"\"\"\n",
    "    Generate a dict to turn punctuation into a token.\n",
    "    :return: Tokenize dictionary where the key is the punctuation and the value is the token\n",
    "    \"\"\"\n",
    "    # TODO: Implement Function\n",
    "    symbols = {\n",
    "        \".\":\"||Period||\",\n",
    "        \",\":\"||Comma||\",\n",
    "        '\"':\"||Quotation_Mark||\",\n",
    "        \";\":\"||Semicolon||\",\n",
    "        \"!\":\"||Exclamation_mark||\",\n",
    "        \"?\":\"||Question_mark||\",\n",
    "        \"(\":\"||Left_Parentheses||\",\n",
    "        \")\":\"||Right_Parenthese||\",\n",
    "        \"--\":\"||Dash||\",\n",
    "        \"\\n\":\"||Return||\"\n",
    "        \n",
    "    }\n",
    "    return symbols\n",
    "\n",
    "\"\"\"\n",
    "DON'T MODIFY ANYTHING IN THIS CELL THAT IS BELOW THIS LINE\n",
    "\"\"\"\n",
    "tests.test_tokenize(token_lookup)"
   ]
  },
  {
   "cell_type": "markdown",
   "metadata": {
    "deletable": true,
    "editable": true
   },
   "source": [
    "## Preprocess all the data and save it\n",
    "Running the code cell below will preprocess all the data and save it to file."
   ]
  },
  {
   "cell_type": "code",
   "execution_count": 7,
   "metadata": {
    "collapsed": false,
    "deletable": true,
    "editable": true
   },
   "outputs": [],
   "source": [
    "\"\"\"\n",
    "DON'T MODIFY ANYTHING IN THIS CELL\n",
    "\"\"\"\n",
    "# Preprocess Training, Validation, and Testing Data\n",
    "helper.preprocess_and_save_data(data_dir, token_lookup, create_lookup_tables)"
   ]
  },
  {
   "cell_type": "markdown",
   "metadata": {
    "deletable": true,
    "editable": true
   },
   "source": [
    "# Check Point\n",
    "This is your first checkpoint. If you ever decide to come back to this notebook or have to restart the notebook, you can start from here. The preprocessed data has been saved to disk."
   ]
  },
  {
   "cell_type": "code",
   "execution_count": 8,
   "metadata": {
    "collapsed": false,
    "deletable": true,
    "editable": true
   },
   "outputs": [],
   "source": [
    "\"\"\"\n",
    "DON'T MODIFY ANYTHING IN THIS CELL\n",
    "\"\"\"\n",
    "import helper\n",
    "import numpy as np\n",
    "import problem_unittests as tests\n",
    "\n",
    "int_text, vocab_to_int, int_to_vocab, token_dict = helper.load_preprocess()"
   ]
  },
  {
   "cell_type": "code",
   "execution_count": 9,
   "metadata": {
    "collapsed": false,
    "deletable": true,
    "editable": true
   },
   "outputs": [
    {
     "name": "stdout",
     "output_type": "stream",
     "text": [
      "[9, 3, 121, 174, 4, 180, 334, 0, 140, 5, 5982, 535, 13, 145, 0, 1, 150, 179, 2, 36, 2, 218, 2, 22, 975, 79, 10, 203, 199, 2] ||period|| 3352\n"
     ]
    }
   ],
   "source": [
    "print(int_text[:30],int_to_vocab[0],vocab_to_int['ratio'])"
   ]
  },
  {
   "cell_type": "markdown",
   "metadata": {
    "deletable": true,
    "editable": true
   },
   "source": [
    "## Build the Neural Network\n",
    "You'll build the components necessary to build a RNN by implementing the following functions below:\n",
    "- get_inputs\n",
    "- get_init_cell\n",
    "- get_embed\n",
    "- build_rnn\n",
    "- build_nn\n",
    "- get_batches\n",
    "\n",
    "### Check the Version of TensorFlow and Access to GPU"
   ]
  },
  {
   "cell_type": "code",
   "execution_count": 10,
   "metadata": {
    "collapsed": false,
    "deletable": true,
    "editable": true
   },
   "outputs": [
    {
     "name": "stdout",
     "output_type": "stream",
     "text": [
      "TensorFlow Version: 1.0.0\n",
      "Default GPU Device: /gpu:0\n"
     ]
    }
   ],
   "source": [
    "\"\"\"\n",
    "DON'T MODIFY ANYTHING IN THIS CELL\n",
    "\"\"\"\n",
    "from distutils.version import LooseVersion\n",
    "import warnings\n",
    "import tensorflow as tf\n",
    "\n",
    "# Check TensorFlow Version\n",
    "assert LooseVersion(tf.__version__) >= LooseVersion('1.0'), 'Please use TensorFlow version 1.0 or newer'\n",
    "print('TensorFlow Version: {}'.format(tf.__version__))\n",
    "\n",
    "# Check for a GPU\n",
    "if not tf.test.gpu_device_name():\n",
    "    warnings.warn('No GPU found. Please use a GPU to train your neural network.')\n",
    "else:\n",
    "    print('Default GPU Device: {}'.format(tf.test.gpu_device_name()))"
   ]
  },
  {
   "cell_type": "markdown",
   "metadata": {
    "deletable": true,
    "editable": true
   },
   "source": [
    "### Input\n",
    "Implement the `get_inputs()` function to create TF Placeholders for the Neural Network.  It should create the following placeholders:\n",
    "- Input text placeholder named \"input\" using the [TF Placeholder](https://www.tensorflow.org/api_docs/python/tf/placeholder) `name` parameter.\n",
    "- Targets placeholder\n",
    "- Learning Rate placeholder\n",
    "\n",
    "Return the placeholders in the following tuple `(Input, Targets, LearningRate)`"
   ]
  },
  {
   "cell_type": "code",
   "execution_count": 21,
   "metadata": {
    "collapsed": false,
    "deletable": true,
    "editable": true
   },
   "outputs": [
    {
     "name": "stdout",
     "output_type": "stream",
     "text": [
      "Tests Passed\n"
     ]
    }
   ],
   "source": [
    "def get_inputs():\n",
    "    \"\"\"\n",
    "    Create TF Placeholders for input, targets, and learning rate.\n",
    "    :return: Tuple (input, targets, learning rate)\n",
    "    \"\"\"\n",
    "    # TODO: Implement Function\n",
    "    #.参数初始占位\n",
    "    inputs = tf.placeholder(tf.int32,(None,None),name='input')\n",
    "    targets = tf.placeholder(tf.int32,(None,None),name='targets')\n",
    "    LearningRate = tf.placeholder(tf.float32,name='learning_rate')\n",
    "    return inputs, targets, LearningRate\n",
    "\n",
    "\n",
    "\"\"\"\n",
    "DON'T MODIFY ANYTHING IN THIS CELL THAT IS BELOW THIS LINE\n",
    "\"\"\"\n",
    "tests.test_get_inputs(get_inputs)"
   ]
  },
  {
   "cell_type": "markdown",
   "metadata": {
    "deletable": true,
    "editable": true
   },
   "source": [
    "### Build RNN Cell and Initialize\n",
    "Stack one or more [`BasicLSTMCells`](https://www.tensorflow.org/api_docs/python/tf/contrib/rnn/BasicLSTMCell) in a [`MultiRNNCell`](https://www.tensorflow.org/api_docs/python/tf/contrib/rnn/MultiRNNCell).\n",
    "- The Rnn size should be set using `rnn_size`\n",
    "- Initalize Cell State using the MultiRNNCell's [`zero_state()`](https://www.tensorflow.org/api_docs/python/tf/contrib/rnn/MultiRNNCell#zero_state) function\n",
    "    - Apply the name \"initial_state\" to the initial state using [`tf.identity()`](https://www.tensorflow.org/api_docs/python/tf/identity)\n",
    "\n",
    "Return the cell and initial state in the following tuple `(Cell, InitialState)`"
   ]
  },
  {
   "cell_type": "code",
   "execution_count": 23,
   "metadata": {
    "collapsed": false,
    "deletable": true,
    "editable": true
   },
   "outputs": [
    {
     "name": "stdout",
     "output_type": "stream",
     "text": [
      "Tests Passed\n"
     ]
    }
   ],
   "source": [
    "def get_init_cell(batch_size, rnn_size):\n",
    "    \"\"\"\n",
    "    Create an RNN Cell and initialize it.\n",
    "    :param batch_size: Size of batches\n",
    "    :param rnn_size: Size of RNNs\n",
    "    :return: Tuple (cell, initialize state)\n",
    "    \"\"\"\n",
    "    # TODO: Implement Function\n",
    "    #1.建立LSTM层状态\n",
    "    lstm = tf.contrib.rnn.BasicLSTMCell(rnn_size)\n",
    "    #2.堆叠多个 LSTM 层, 进行深度学习\n",
    "    cell = tf.contrib.rnn.MultiRNNCell([lstm] * 1)\n",
    "    #3.初始化状态\n",
    "    initial_state = cell.zero_state(batch_size,tf.float32)\n",
    "    #4.将初始状态的reference标识到initial_state\n",
    "    initial_state = tf.identity(initial_state,name='initial_state')\n",
    "    \n",
    "    return cell, initial_state\n",
    "\n",
    "\n",
    "\"\"\"\n",
    "DON'T MODIFY ANYTHING IN THIS CELL THAT IS BELOW THIS LINE\n",
    "\"\"\"\n",
    "tests.test_get_init_cell(get_init_cell)"
   ]
  },
  {
   "cell_type": "markdown",
   "metadata": {
    "deletable": true,
    "editable": true
   },
   "source": [
    "### Word Embedding\n",
    "Apply embedding to `input_data` using TensorFlow.  Return the embedded sequence."
   ]
  },
  {
   "cell_type": "code",
   "execution_count": 24,
   "metadata": {
    "collapsed": false,
    "deletable": true,
    "editable": true
   },
   "outputs": [
    {
     "name": "stdout",
     "output_type": "stream",
     "text": [
      "Tests Passed\n"
     ]
    }
   ],
   "source": [
    "def get_embed(input_data, vocab_size, embed_dim):\n",
    "    \"\"\"\n",
    "    Create embedding for <input_data>.\n",
    "    :param input_data: TF placeholder for text input.\n",
    "    :param vocab_size: Number of words in vocabulary.\n",
    "    :param embed_dim: Number of embedding dimensions\n",
    "    :return: Embedded input.\n",
    "    \"\"\"\n",
    "    # TODO: Implement Function\n",
    "    embedding = tf.Variable(tf.random_uniform([vocab_size,embed_dim],-1,1))\n",
    "    embed = tf.nn.embedding_lookup(embedding,input_data)\n",
    "    return embed\n",
    "\n",
    "\n",
    "\"\"\"\n",
    "DON'T MODIFY ANYTHING IN THIS CELL THAT IS BELOW THIS LINE\n",
    "\"\"\"\n",
    "tests.test_get_embed(get_embed)"
   ]
  },
  {
   "cell_type": "markdown",
   "metadata": {
    "deletable": true,
    "editable": true
   },
   "source": [
    "### Build RNN\n",
    "You created a RNN Cell in the `get_init_cell()` function.  Time to use the cell to create a RNN.\n",
    "- Build the RNN using the [`tf.nn.dynamic_rnn()`](https://www.tensorflow.org/api_docs/python/tf/nn/dynamic_rnn)\n",
    " - Apply the name \"final_state\" to the final state using [`tf.identity()`](https://www.tensorflow.org/api_docs/python/tf/identity)\n",
    "\n",
    "Return the outputs and final_state state in the following tuple `(Outputs, FinalState)` "
   ]
  },
  {
   "cell_type": "code",
   "execution_count": 25,
   "metadata": {
    "collapsed": false,
    "deletable": true,
    "editable": true
   },
   "outputs": [
    {
     "name": "stdout",
     "output_type": "stream",
     "text": [
      "Tests Passed\n"
     ]
    }
   ],
   "source": [
    "def build_rnn(cell, inputs):\n",
    "    \"\"\"\n",
    "    Create a RNN using a RNN Cell\n",
    "    :param cell: RNN Cell\n",
    "    :param inputs: Input text data\n",
    "    :return: Tuple (Outputs, Final State)\n",
    "    \"\"\"\n",
    "    # TODO: Implement Function\n",
    "    #1.准备跑RNN网络\n",
    "    outputs,state = tf.nn.dynamic_rnn(cell,inputs,dtype=tf.float32)\n",
    "    final_state = state\n",
    "    #2.将最终状态的reference标识到final_state\n",
    "    final_state = tf.identity(final_state,name='final_state')\n",
    "    return outputs, final_state\n",
    "\n",
    "\n",
    "\"\"\"\n",
    "DON'T MODIFY ANYTHING IN THIS CELL THAT IS BELOW THIS LINE\n",
    "\"\"\"\n",
    "tests.test_build_rnn(build_rnn)"
   ]
  },
  {
   "cell_type": "markdown",
   "metadata": {
    "deletable": true,
    "editable": true
   },
   "source": [
    "### Build the Neural Network\n",
    "Apply the functions you implemented above to:\n",
    "- Apply embedding to `input_data` using your `get_embed(input_data, vocab_size, embed_dim)` function.\n",
    "- Build RNN using `cell` and your `build_rnn(cell, inputs)` function.\n",
    "- Apply a fully connected layer with a linear activation and `vocab_size` as the number of outputs.\n",
    "\n",
    "Return the logits and final state in the following tuple (Logits, FinalState) "
   ]
  },
  {
   "cell_type": "code",
   "execution_count": 26,
   "metadata": {
    "collapsed": false,
    "deletable": true,
    "editable": true
   },
   "outputs": [
    {
     "name": "stdout",
     "output_type": "stream",
     "text": [
      "Tensor(\"embedding_lookup:0\", shape=(128, 5, 300), dtype=float32)\n",
      "Tests Passed\n"
     ]
    }
   ],
   "source": [
    "def build_nn(cell, rnn_size, input_data, vocab_size, embed_dim):\n",
    "    \"\"\"\n",
    "    Build part of the neural network\n",
    "    :param cell: RNN cell\n",
    "    :param rnn_size: Size of rnns\n",
    "    :param input_data: Input data\n",
    "    :param vocab_size: Vocabulary size\n",
    "    :param embed_dim: Number of embedding dimensions\n",
    "    :return: Tuple (Logits, FinalState)\n",
    "    \"\"\"\n",
    "    # TODO: Implement Function\n",
    "    #1.使用之前写的get_embed()函数，嵌入处理input_data\n",
    "    embedding = get_embed(input_data,vocab_size,embed_dim)\n",
    "    print(embedding)\n",
    "    #2.使用之前建立的bulild_rnn()函数创建RNN网络，输出output和最终状态\n",
    "    output , final_states = build_rnn(cell,embedding)\n",
    "    #3.加一个全连接层（参数：上一层的输出，线性激活函数，vocab_size）\n",
    "    logits = tf.contrib.layers.fully_connected(output,vocab_size,activation_fn=None)\n",
    "    return logits, final_states\n",
    "\n",
    "\n",
    "\"\"\"\n",
    "DON'T MODIFY ANYTHING IN THIS CELL THAT IS BELOW THIS LINE\n",
    "\"\"\"\n",
    "tests.test_build_nn(build_nn)"
   ]
  },
  {
   "cell_type": "markdown",
   "metadata": {
    "deletable": true,
    "editable": true
   },
   "source": [
    "### Batches\n",
    "Implement `get_batches` to create batches of input and targets using `int_text`.  The batches should be a Numpy array with the shape `(number of batches, 2, batch size, sequence length)`. Each batch contains two elements:\n",
    "- The first element is a single batch of **input** with the shape `[batch size, sequence length]`\n",
    "- The second element is a single batch of **targets** with the shape `[batch size, sequence length]`\n",
    "\n",
    "If you can't fill the last batch with enough data, drop the last batch.\n",
    "\n",
    "For exmple, `get_batches([1, 2, 3, 4, 5, 6, 7, 8, 9, 10, 11, 12, 13, 14, 15], 2, 3)` would return a Numpy array of the following:\n",
    "```\n",
    "[\n",
    "  # First Batch\n",
    "  [\n",
    "    # Batch of Input\n",
    "    [[ 1  2  3], [ 7  8  9]],\n",
    "    # Batch of targets\n",
    "    [[ 2  3  4], [ 8  9 10]]\n",
    "  ],\n",
    " \n",
    "  # Second Batch\n",
    "  [\n",
    "    # Batch of Input\n",
    "    [[ 4  5  6], [10 11 12]],\n",
    "    # Batch of targets\n",
    "    [[ 5  6  7], [11 12 13]]\n",
    "  ]\n",
    "]\n",
    "```"
   ]
  },
  {
   "cell_type": "code",
   "execution_count": 39,
   "metadata": {
    "collapsed": false,
    "deletable": true,
    "editable": true
   },
   "outputs": [
    {
     "name": "stdout",
     "output_type": "stream",
     "text": [
      "Tests Passed\n"
     ]
    }
   ],
   "source": [
    "def get_batches(int_text, batch_size, seq_length):\n",
    "    \"\"\"\n",
    "    Return batches of input and target\n",
    "    :param int_text: Text with the words replaced by their ids\n",
    "    :param batch_size: The size of batch\n",
    "    :param seq_length: The length of sequence\n",
    "    :return: Batches as a Numpy array\n",
    "    \"\"\"\n",
    "    # TODO: Implement Function\n",
    "    batches = []\n",
    "    #1.计算出有多少个batch\n",
    "    batches_num = int(len(int_text) // (batch_size*seq_length))\n",
    "    #2.根据批次多少，序列长度，每个批次大小计算x,y\n",
    "    x_int_text = np.array(int_text[:batches_num * seq_length * batch_size])\n",
    "    y_int_text = np.array(int_text[1:batch_size * batches_num * seq_length + 1])\n",
    "    #3.按批次数量分出个batch\n",
    "    x_batch = np.split(x_int_text,batches_num)\n",
    "    y_batch = np.split(y_int_text,batches_num)\n",
    "    #4.对于每个batch，分割成input[batch size, sequence length]和target[batch size, sequence length]\n",
    "    for idx in range(batches_num):\n",
    "        x = np.split(x_batch[idx],batch_size)\n",
    "        y = np.split(y_batch[idx],batch_size)\n",
    "        batches.append(np.stack((x,y)))\n",
    "    return np.array(batches)\n",
    "\n",
    "\n",
    "\"\"\"\n",
    "DON'T MODIFY ANYTHING IN THIS CELL THAT IS BELOW THIS LINE\n",
    "\"\"\"\n",
    "tests.test_get_batches(get_batches)"
   ]
  },
  {
   "cell_type": "markdown",
   "metadata": {
    "deletable": true,
    "editable": true
   },
   "source": [
    "## Neural Network Training\n",
    "### Hyperparameters\n",
    "Tune the following parameters:\n",
    "\n",
    "- Set `num_epochs` to the number of epochs.\n",
    "- Set `batch_size` to the batch size.\n",
    "- Set `rnn_size` to the size of the RNNs.\n",
    "- Set `embed_dim` to the size of the embedding.\n",
    "- Set `seq_length` to the length of sequence.\n",
    "- Set `learning_rate` to the learning rate.\n",
    "- Set `show_every_n_batches` to the number of batches the neural network should print progress."
   ]
  },
  {
   "cell_type": "code",
   "execution_count": 59,
   "metadata": {
    "collapsed": true,
    "deletable": true,
    "editable": true
   },
   "outputs": [],
   "source": [
    "# Number of Epochs\n",
    "num_epochs = 80\n",
    "# Batch Size\n",
    "batch_size = 256\n",
    "# RNN Size\n",
    "rnn_size = 512\n",
    "# Embedding Dimension Size\n",
    "embed_dim = 30\n",
    "# Sequence Length\n",
    "seq_length = 20\n",
    "# Learning Rate\n",
    "learning_rate = 0.01\n",
    "# Show stats for every n number of batches\n",
    "show_every_n_batches = 20\n",
    "\n",
    "\"\"\"\n",
    "DON'T MODIFY ANYTHING IN THIS CELL THAT IS BELOW THIS LINE\n",
    "\"\"\"\n",
    "save_dir = './save'"
   ]
  },
  {
   "cell_type": "markdown",
   "metadata": {
    "deletable": true,
    "editable": true
   },
   "source": [
    "### Build the Graph\n",
    "Build the graph using the neural network you implemented."
   ]
  },
  {
   "cell_type": "code",
   "execution_count": 60,
   "metadata": {
    "collapsed": false,
    "deletable": true,
    "editable": true
   },
   "outputs": [
    {
     "name": "stdout",
     "output_type": "stream",
     "text": [
      "Tensor(\"embedding_lookup:0\", shape=(?, ?, 30), dtype=float32)\n"
     ]
    }
   ],
   "source": [
    "\"\"\"\n",
    "DON'T MODIFY ANYTHING IN THIS CELL\n",
    "\"\"\"\n",
    "from tensorflow.contrib import seq2seq\n",
    "\n",
    "train_graph = tf.Graph()\n",
    "with train_graph.as_default():\n",
    "    vocab_size = len(int_to_vocab)\n",
    "    input_text, targets, lr = get_inputs()\n",
    "    input_data_shape = tf.shape(input_text)\n",
    "    cell, initial_state = get_init_cell(input_data_shape[0], rnn_size)\n",
    "    logits, final_state = build_nn(cell, rnn_size, input_text, vocab_size, embed_dim)\n",
    "\n",
    "    # Probabilities for generating words\n",
    "    probs = tf.nn.softmax(logits, name='probs')\n",
    "\n",
    "    # Loss function\n",
    "    cost = seq2seq.sequence_loss(\n",
    "        logits,\n",
    "        targets,\n",
    "        tf.ones([input_data_shape[0], input_data_shape[1]]))\n",
    "\n",
    "    # Optimizer\n",
    "    optimizer = tf.train.AdamOptimizer(lr)\n",
    "\n",
    "    # Gradient Clipping\n",
    "    gradients = optimizer.compute_gradients(cost)\n",
    "    capped_gradients = [(tf.clip_by_value(grad, -1., 1.), var) for grad, var in gradients if grad is not None]\n",
    "    train_op = optimizer.apply_gradients(capped_gradients)"
   ]
  },
  {
   "cell_type": "markdown",
   "metadata": {
    "deletable": true,
    "editable": true
   },
   "source": [
    "## Train\n",
    "Train the neural network on the preprocessed data.  If you have a hard time getting a good loss, check the [forms](https://discussions.udacity.com/) to see if anyone is having the same problem."
   ]
  },
  {
   "cell_type": "code",
   "execution_count": 61,
   "metadata": {
    "collapsed": false,
    "deletable": true,
    "editable": true
   },
   "outputs": [
    {
     "name": "stdout",
     "output_type": "stream",
     "text": [
      "Epoch   0 Batch    0/13   train_loss = 8.822\n",
      "Epoch   1 Batch    7/13   train_loss = 5.878\n",
      "Epoch   3 Batch    1/13   train_loss = 5.141\n",
      "Epoch   4 Batch    8/13   train_loss = 4.776\n",
      "Epoch   6 Batch    2/13   train_loss = 4.334\n",
      "Epoch   7 Batch    9/13   train_loss = 3.941\n",
      "Epoch   9 Batch    3/13   train_loss = 3.539\n",
      "Epoch  10 Batch   10/13   train_loss = 3.133\n",
      "Epoch  12 Batch    4/13   train_loss = 2.799\n",
      "Epoch  13 Batch   11/13   train_loss = 2.603\n",
      "Epoch  15 Batch    5/13   train_loss = 2.347\n",
      "Epoch  16 Batch   12/13   train_loss = 2.130\n",
      "Epoch  18 Batch    6/13   train_loss = 1.946\n",
      "Epoch  20 Batch    0/13   train_loss = 1.745\n",
      "Epoch  21 Batch    7/13   train_loss = 1.538\n",
      "Epoch  23 Batch    1/13   train_loss = 1.528\n",
      "Epoch  24 Batch    8/13   train_loss = 1.259\n",
      "Epoch  26 Batch    2/13   train_loss = 1.198\n",
      "Epoch  27 Batch    9/13   train_loss = 1.001\n",
      "Epoch  29 Batch    3/13   train_loss = 0.929\n",
      "Epoch  30 Batch   10/13   train_loss = 0.843\n",
      "Epoch  32 Batch    4/13   train_loss = 0.742\n",
      "Epoch  33 Batch   11/13   train_loss = 0.594\n",
      "Epoch  35 Batch    5/13   train_loss = 0.571\n",
      "Epoch  36 Batch   12/13   train_loss = 0.459\n",
      "Epoch  38 Batch    6/13   train_loss = 0.428\n",
      "Epoch  40 Batch    0/13   train_loss = 0.439\n",
      "Epoch  41 Batch    7/13   train_loss = 0.386\n",
      "Epoch  43 Batch    1/13   train_loss = 0.392\n",
      "Epoch  44 Batch    8/13   train_loss = 0.349\n",
      "Epoch  46 Batch    2/13   train_loss = 0.335\n",
      "Epoch  47 Batch    9/13   train_loss = 0.263\n",
      "Epoch  49 Batch    3/13   train_loss = 0.237\n",
      "Epoch  50 Batch   10/13   train_loss = 0.217\n",
      "Epoch  52 Batch    4/13   train_loss = 0.191\n",
      "Epoch  53 Batch   11/13   train_loss = 0.164\n",
      "Epoch  55 Batch    5/13   train_loss = 0.172\n",
      "Epoch  56 Batch   12/13   train_loss = 0.171\n",
      "Epoch  58 Batch    6/13   train_loss = 0.159\n",
      "Epoch  60 Batch    0/13   train_loss = 0.175\n",
      "Epoch  61 Batch    7/13   train_loss = 0.165\n",
      "Epoch  63 Batch    1/13   train_loss = 0.161\n",
      "Epoch  64 Batch    8/13   train_loss = 0.162\n",
      "Epoch  66 Batch    2/13   train_loss = 0.152\n",
      "Epoch  67 Batch    9/13   train_loss = 0.147\n",
      "Epoch  69 Batch    3/13   train_loss = 0.155\n",
      "Epoch  70 Batch   10/13   train_loss = 0.156\n",
      "Epoch  72 Batch    4/13   train_loss = 0.156\n",
      "Epoch  73 Batch   11/13   train_loss = 0.144\n",
      "Epoch  75 Batch    5/13   train_loss = 0.154\n",
      "Epoch  76 Batch   12/13   train_loss = 0.159\n",
      "Epoch  78 Batch    6/13   train_loss = 0.148\n",
      "Model Trained and Saved\n"
     ]
    }
   ],
   "source": [
    "\"\"\"\n",
    "DON'T MODIFY ANYTHING IN THIS CELL\n",
    "\"\"\"\n",
    "batches = get_batches(int_text, batch_size, seq_length)\n",
    "\n",
    "with tf.Session(graph=train_graph) as sess:\n",
    "    sess.run(tf.global_variables_initializer())\n",
    "\n",
    "    for epoch_i in range(num_epochs):\n",
    "        state = sess.run(initial_state, {input_text: batches[0][0]})\n",
    "\n",
    "        for batch_i, (x, y) in enumerate(batches):\n",
    "            feed = {\n",
    "                input_text: x,\n",
    "                targets: y,\n",
    "                initial_state: state,\n",
    "                lr: learning_rate}\n",
    "            train_loss, state, _ = sess.run([cost, final_state, train_op], feed)\n",
    "\n",
    "            # Show every <show_every_n_batches> batches\n",
    "            if (epoch_i * len(batches) + batch_i) % show_every_n_batches == 0:\n",
    "                print('Epoch {:>3} Batch {:>4}/{}   train_loss = {:.3f}'.format(\n",
    "                    epoch_i,\n",
    "                    batch_i,\n",
    "                    len(batches),\n",
    "                    train_loss))\n",
    "\n",
    "    # Save Model\n",
    "    saver = tf.train.Saver()\n",
    "    saver.save(sess, save_dir)\n",
    "    print('Model Trained and Saved')"
   ]
  },
  {
   "cell_type": "markdown",
   "metadata": {
    "deletable": true,
    "editable": true
   },
   "source": [
    "## Save Parameters\n",
    "Save `seq_length` and `save_dir` for generating a new TV script."
   ]
  },
  {
   "cell_type": "code",
   "execution_count": 62,
   "metadata": {
    "collapsed": false,
    "deletable": true,
    "editable": true
   },
   "outputs": [],
   "source": [
    "\"\"\"\n",
    "DON'T MODIFY ANYTHING IN THIS CELL\n",
    "\"\"\"\n",
    "# Save parameters for checkpoint\n",
    "helper.save_params((seq_length, save_dir))"
   ]
  },
  {
   "cell_type": "markdown",
   "metadata": {
    "deletable": true,
    "editable": true
   },
   "source": [
    "# Checkpoint"
   ]
  },
  {
   "cell_type": "code",
   "execution_count": 63,
   "metadata": {
    "collapsed": false,
    "deletable": true,
    "editable": true
   },
   "outputs": [],
   "source": [
    "\"\"\"\n",
    "DON'T MODIFY ANYTHING IN THIS CELL\n",
    "\"\"\"\n",
    "import tensorflow as tf\n",
    "import numpy as np\n",
    "import helper\n",
    "import problem_unittests as tests\n",
    "\n",
    "_, vocab_to_int, int_to_vocab, token_dict = helper.load_preprocess()\n",
    "seq_length, load_dir = helper.load_params()"
   ]
  },
  {
   "cell_type": "markdown",
   "metadata": {
    "deletable": true,
    "editable": true
   },
   "source": [
    "## Implement Generate Functions\n",
    "### Get Tensors\n",
    "Get tensors from `loaded_graph` using the function [`get_tensor_by_name()`](https://www.tensorflow.org/api_docs/python/tf/Graph#get_tensor_by_name).  Get the tensors using the following names:\n",
    "- \"input:0\"\n",
    "- \"initial_state:0\"\n",
    "- \"final_state:0\"\n",
    "- \"probs:0\"\n",
    "\n",
    "Return the tensors in the following tuple `(InputTensor, InitialStateTensor, FinalStateTensor, ProbsTensor)` "
   ]
  },
  {
   "cell_type": "code",
   "execution_count": 64,
   "metadata": {
    "collapsed": false,
    "deletable": true,
    "editable": true
   },
   "outputs": [
    {
     "name": "stdout",
     "output_type": "stream",
     "text": [
      "Tests Passed\n"
     ]
    }
   ],
   "source": [
    "def get_tensors(loaded_graph):\n",
    "    \"\"\"\n",
    "    Get input, initial state, final state, and probabilities tensor from <loaded_graph>\n",
    "    :param loaded_graph: TensorFlow graph loaded from file\n",
    "    :return: Tuple (InputTensor, InitialStateTensor, FinalStateTensor, ProbsTensor)\n",
    "    \"\"\"\n",
    "    # TODO: Implement Function\n",
    "    InputTensor = loaded_graph.get_tensor_by_name(\"input:0\")\n",
    "    InitialStateTensor = loaded_graph.get_tensor_by_name(\"initial_state:0\")\n",
    "    FinalStateTensor = loaded_graph.get_tensor_by_name(\"final_state:0\")\n",
    "    ProbsTensor = loaded_graph.get_tensor_by_name(\"probs:0\")\n",
    "    return InputTensor, InitialStateTensor, FinalStateTensor, ProbsTensor\n",
    "\n",
    "\n",
    "\"\"\"\n",
    "DON'T MODIFY ANYTHING IN THIS CELL THAT IS BELOW THIS LINE\n",
    "\"\"\"\n",
    "tests.test_get_tensors(get_tensors)"
   ]
  },
  {
   "cell_type": "markdown",
   "metadata": {
    "deletable": true,
    "editable": true
   },
   "source": [
    "### Choose Word\n",
    "Implement the `pick_word()` function to select the next word using `probabilities`."
   ]
  },
  {
   "cell_type": "code",
   "execution_count": 65,
   "metadata": {
    "collapsed": false,
    "deletable": true,
    "editable": true
   },
   "outputs": [
    {
     "name": "stdout",
     "output_type": "stream",
     "text": [
      "[ 0.1   0.8   0.05  0.05]\n",
      "1\n",
      "Tests Passed\n"
     ]
    }
   ],
   "source": [
    "def pick_word(probabilities, int_to_vocab):\n",
    "    \"\"\"\n",
    "    Pick the next word in the generated text\n",
    "    :param probabilities: Probabilites of the next word\n",
    "    :param int_to_vocab: Dictionary of word ids as the keys and words as the values\n",
    "    :return: String of the predicted word\n",
    "    \"\"\"\n",
    "    # TODO: Implement Function\n",
    "    print(probabilities)\n",
    "    word_num = np.argmax(probabilities)\n",
    "    \n",
    "    print(word_num)\n",
    "    return int_to_vocab[word_num]\n",
    "\n",
    "\n",
    "\"\"\"\n",
    "DON'T MODIFY ANYTHING IN THIS CELL THAT IS BELOW THIS LINE\n",
    "\"\"\"\n",
    "tests.test_pick_word(pick_word)"
   ]
  },
  {
   "cell_type": "markdown",
   "metadata": {
    "deletable": true,
    "editable": true
   },
   "source": [
    "## Generate TV Script\n",
    "This will generate the TV script for you.  Set `gen_length` to the length of TV script you want to generate."
   ]
  },
  {
   "cell_type": "code",
   "execution_count": 66,
   "metadata": {
    "collapsed": false,
    "deletable": true,
    "editable": true
   },
   "outputs": [
    {
     "name": "stdout",
     "output_type": "stream",
     "text": [
      "[  2.04628916e-03   9.83709251e-05   3.20941034e-08 ...,   1.11853327e-09\n",
      "   2.73846168e-09   4.18201390e-10]\n",
      "3\n",
      "[  5.60355096e-09   4.59196126e-10   2.86872837e-05 ...,   1.84437521e-10\n",
      "   2.35535698e-08   1.25052681e-12]\n",
      "121\n",
      "[  4.72711072e-11   1.49590491e-14   1.97278336e-03 ...,   7.58061962e-14\n",
      "   4.24117685e-12   2.20834576e-15]\n",
      "174\n",
      "[  1.63023220e-10   4.02804290e-10   4.07116822e-05 ...,   2.70695901e-13\n",
      "   5.90560790e-14   1.06214681e-17]\n",
      "4\n",
      "[  1.87872317e-07   7.44927547e-07   5.92931464e-08 ...,   3.59532825e-13\n",
      "   4.94820886e-11   1.54157121e-11]\n",
      "180\n",
      "[  1.98627301e-08   3.18637735e-14   3.61111461e-06 ...,   3.26449041e-11\n",
      "   1.24157452e-13   2.72798057e-14]\n",
      "334\n",
      "[  9.97697771e-01   1.60113007e-08   1.70488283e-03 ...,   2.65637579e-14\n",
      "   5.60562775e-19   3.66391463e-18]\n",
      "0\n",
      "[  1.20148214e-03   1.36298612e-02   2.24658743e-05 ...,   8.38309810e-10\n",
      "   7.54639580e-12   1.44947265e-09]\n",
      "140\n",
      "[  1.27645559e-03   1.12932808e-09   5.21661495e-05 ...,   1.57037076e-13\n",
      "   1.15461568e-12   3.26328455e-13]\n",
      "5\n",
      "[  1.10741297e-07   7.84814791e-09   1.48518781e-10 ...,   2.44147058e-09\n",
      "   1.60361037e-12   2.47119131e-10]\n",
      "5982\n",
      "[  1.06759626e-06   1.75291486e-14   6.52600959e-11 ...,   8.61651375e-12\n",
      "   1.91787266e-19   5.94304041e-19]\n",
      "535\n",
      "[  6.31827049e-07   9.09011644e-10   5.71123357e-11 ...,   1.48784887e-10\n",
      "   4.30933196e-14   2.15766844e-13]\n",
      "13\n",
      "[  6.05440990e-04   2.63746612e-14   2.83383625e-12 ...,   8.41528615e-13\n",
      "   6.06991603e-15   1.48657226e-15]\n",
      "145\n",
      "[  9.97631311e-01   1.43809020e-09   1.15058974e-05 ...,   6.87233134e-14\n",
      "   2.94852148e-15   9.15335719e-14]\n",
      "0\n",
      "[  1.78795790e-06   9.92711544e-01   4.37741232e-10 ...,   6.95595450e-14\n",
      "   2.32759318e-15   3.99387690e-13]\n",
      "1\n",
      "[  2.03413833e-06   1.12143016e-06   2.21338651e-05 ...,   4.29633759e-11\n",
      "   1.09494347e-12   7.82282399e-12]\n",
      "150\n",
      "[  1.89222590e-06   7.69579667e-04   2.14844775e-07 ...,   2.00472705e-09\n",
      "   2.57105470e-12   1.81942935e-13]\n",
      "179\n",
      "[  3.15594734e-05   1.87867458e-10   9.99725640e-01 ...,   1.87754577e-14\n",
      "   1.42299113e-14   3.81675238e-18]\n",
      "2\n",
      "[  2.50693702e-05   2.51104268e-07   8.78516676e-06 ...,   1.11540388e-09\n",
      "   2.02985784e-09   2.86042801e-10]\n",
      "36\n",
      "[  5.90373995e-03   4.68621408e-09   9.93965805e-01 ...,   2.12500610e-14\n",
      "   6.88105744e-17   4.55889067e-16]\n",
      "2\n",
      "[  1.31451834e-05   5.79961124e-07   6.96028019e-06 ...,   5.23809225e-11\n",
      "   1.81059640e-10   1.61648717e-09]\n",
      "32\n",
      "[  9.65230763e-01   3.92255586e-12   2.07875948e-02 ...,   7.29278238e-09\n",
      "   2.60441652e-13   3.23471588e-12]\n",
      "0\n",
      "[  5.78594953e-02   4.19805832e-02   5.74418573e-06 ...,   4.30888464e-10\n",
      "   1.92746969e-12   6.88535132e-11]\n",
      "802\n",
      "[  1.08639986e-08   1.26636792e-13   1.87160208e-06 ...,   1.61173904e-14\n",
      "   3.93233135e-13   7.28466088e-14]\n",
      "5648\n",
      "[  9.73729789e-01   2.03219993e-12   5.92526630e-04 ...,   6.00105104e-11\n",
      "   2.59624969e-16   5.29747904e-13]\n",
      "0\n",
      "[  8.69705284e-04   8.59994411e-01   1.10523013e-06 ...,   6.00539340e-11\n",
      "   1.03301645e-13   2.71331180e-09]\n",
      "1\n",
      "[  1.06644629e-05   1.31497562e-01   3.01647724e-05 ...,   9.64611724e-11\n",
      "   2.20071374e-11   8.01162955e-11]\n",
      "9\n",
      "[  9.62944705e-06   5.71464579e-06   9.11771622e-06 ...,   1.15511245e-09\n",
      "   4.36231007e-09   3.51322929e-11]\n",
      "3\n",
      "[  2.36794566e-08   1.27144212e-10   1.79356066e-04 ...,   4.89970065e-09\n",
      "   7.72318920e-09   2.95104080e-11]\n",
      "20\n",
      "[  6.46026805e-04   3.12097115e-03   1.06512057e-03 ...,   5.67494829e-10\n",
      "   2.97907050e-08   2.64998353e-12]\n",
      "72\n",
      "[  1.98757508e-08   3.30813883e-11   1.56429844e-04 ...,   1.80577164e-10\n",
      "   5.31542831e-11   2.14006737e-14]\n",
      "127\n",
      "[  2.03765467e-06   1.89083504e-09   2.23914185e-07 ...,   3.25466626e-10\n",
      "   4.32992444e-12   2.68032700e-14]\n",
      "20\n",
      "[  5.36684121e-04   1.90441315e-05   5.55675115e-07 ...,   3.09702107e-13\n",
      "   1.10674024e-12   3.97128944e-12]\n",
      "4\n",
      "[  1.62145251e-03   3.65037355e-03   2.72002353e-07 ...,   2.36226289e-10\n",
      "   1.13292480e-10   9.61190849e-11]\n",
      "86\n",
      "[  1.76241723e-04   4.39577610e-11   9.73225117e-01 ...,   6.72052691e-11\n",
      "   6.28316436e-14   3.07057850e-15]\n",
      "2\n",
      "[  1.02255535e-05   2.35892941e-07   3.85757829e-07 ...,   3.09749404e-09\n",
      "   4.02828104e-10   2.08947104e-09]\n",
      "7\n",
      "[  2.52153305e-03   4.05428773e-16   2.92176333e-06 ...,   5.25498178e-12\n",
      "   8.75416059e-13   1.57791586e-12]\n",
      "119\n",
      "[  8.85291411e-06   1.09802534e-13   8.96553765e-09 ...,   5.76018211e-09\n",
      "   5.98870928e-15   6.69903281e-15]\n",
      "1502\n",
      "[  7.31760189e-02   2.90082763e-10   2.73517855e-02 ...,   2.08837097e-11\n",
      "   2.21006075e-13   2.79255482e-12]\n",
      "148\n",
      "[  2.01031864e-02   3.30725204e-12   9.52929899e-04 ...,   3.12861785e-11\n",
      "   1.15643064e-12   3.25645466e-09]\n",
      "49\n",
      "[  1.22796506e-01   1.50547266e-05   3.27957515e-03 ...,   8.85580012e-11\n",
      "   5.93915368e-12   6.50964527e-09]\n",
      "79\n",
      "[  3.42685700e-04   5.86647486e-09   7.98736699e-03 ...,   1.31310709e-11\n",
      "   5.18184501e-14   1.10078624e-09]\n",
      "14\n",
      "[  1.49626471e-03   2.64428834e-08   7.70868675e-04 ...,   9.68308811e-09\n",
      "   4.78680373e-10   2.10256053e-06]\n",
      "102\n",
      "[  8.06019247e-01   9.47542222e-09   2.31781883e-06 ...,   3.73544529e-10\n",
      "   6.73808555e-17   6.90650271e-12]\n",
      "0\n",
      "[  9.18025598e-02   5.14974773e-01   5.42968082e-05 ...,   1.66113185e-08\n",
      "   2.11659197e-11   2.07060715e-08]\n",
      "1\n",
      "[  3.73772127e-06   2.71408185e-02   2.95222617e-05 ...,   3.88795662e-10\n",
      "   2.32369272e-13   3.48913585e-12]\n",
      "12\n",
      "[  1.83575565e-03   4.70063642e-05   4.24918289e-05 ...,   3.99242452e-08\n",
      "   5.25475366e-12   5.08413320e-12]\n",
      "3\n",
      "[  3.16164517e-07   4.10056259e-07   4.90838875e-06 ...,   1.61854459e-07\n",
      "   3.46176893e-10   1.27567661e-11]\n",
      "262\n",
      "[  6.89736761e-14   5.85039743e-07   1.90821694e-07 ...,   6.97069914e-15\n",
      "   4.04764160e-19   1.56559618e-20]\n",
      "4\n",
      "[  5.73879661e-05   5.08171797e-04   7.03265414e-07 ...,   1.10656950e-09\n",
      "   1.87641541e-10   1.26631830e-10]\n",
      "31\n",
      "[  4.22472549e-05   1.41679888e-11   9.76486504e-01 ...,   3.02167557e-12\n",
      "   2.88021661e-14   3.29820027e-14]\n",
      "2\n",
      "[  1.44030664e-05   1.90905621e-06   1.60251715e-04 ...,   6.80391160e-11\n",
      "   1.04244640e-12   2.29404065e-11]\n",
      "16\n",
      "[  1.52946296e-08   1.09007482e-11   2.94497100e-11 ...,   3.88219535e-12\n",
      "   7.96805330e-13   1.15007653e-13]\n",
      "5031\n",
      "[  1.07708946e-02   2.97038262e-11   1.37536117e-05 ...,   2.94835572e-16\n",
      "   1.03346896e-20   1.76604224e-20]\n",
      "8\n",
      "[  7.33307252e-06   2.86623894e-04   1.70975894e-04 ...,   1.27543904e-11\n",
      "   3.38590657e-12   3.50867321e-11]\n",
      "48\n",
      "[  7.50297374e-07   1.93092409e-09   4.84300244e-06 ...,   1.03208553e-09\n",
      "   2.81683531e-12   9.80596016e-14]\n",
      "6578\n",
      "[  1.16021291e-03   6.03805555e-19   3.40558850e-04 ...,   1.41016938e-11\n",
      "   2.14684264e-18   1.65051432e-15]\n",
      "11\n",
      "[  2.72622538e-06   1.66427215e-13   4.57414440e-10 ...,   4.82508034e-10\n",
      "   2.18797758e-10   2.60696738e-12]\n",
      "2815\n",
      "[  6.32671217e-05   8.49013107e-14   8.10813945e-05 ...,   1.59626584e-13\n",
      "   1.54780766e-15   8.94736255e-17]\n",
      "15\n",
      "[  3.04902574e-06   2.04932751e-10   1.46057218e-07 ...,   2.52219357e-09\n",
      "   6.29510073e-12   5.57164583e-07]\n",
      "3060\n",
      "[  1.02267304e-05   1.20089936e-11   2.81963701e-04 ...,   2.09571748e-12\n",
      "   3.28820043e-17   7.17098347e-15]\n",
      "2533\n",
      "[  2.97256393e-05   8.21726985e-07   1.15300318e-05 ...,   1.15028240e-13\n",
      "   2.15226212e-18   1.98964804e-14]\n",
      "8\n",
      "[  1.74186550e-06   9.99803960e-01   3.86574293e-08 ...,   9.34174699e-12\n",
      "   6.44302388e-14   2.45556635e-12]\n",
      "1\n",
      "[  4.01687998e-07   7.80600822e-04   1.13772321e-03 ...,   1.39454304e-09\n",
      "   6.66087397e-14   7.13651967e-12]\n",
      "12\n",
      "[  1.93838277e-05   2.50278660e-08   6.78257450e-08 ...,   4.52968982e-11\n",
      "   3.28279098e-13   1.23076310e-12]\n",
      "3\n",
      "[  8.18315087e-08   4.73739510e-06   9.88898246e-05 ...,   1.26674365e-07\n",
      "   2.59704575e-05   2.85899060e-09]\n",
      "627\n",
      "[  3.72893903e-12   3.74092948e-15   2.57834904e-06 ...,   1.37883750e-13\n",
      "   3.52709974e-14   2.36365950e-18]\n",
      "4\n",
      "[  1.12363193e-06   8.17052787e-05   1.98116861e-04 ...,   3.83865773e-10\n",
      "   3.25295391e-09   4.59112925e-09]\n",
      "360\n",
      "[  3.66707030e-03   1.23677069e-08   9.80267650e-05 ...,   4.67831249e-08\n",
      "   9.75284387e-09   3.65729018e-12]\n",
      "39\n",
      "[  2.12802575e-03   3.50119578e-08   1.57649145e-02 ...,   2.47296050e-08\n",
      "   2.19116010e-15   1.00504596e-11]\n",
      "11\n",
      "[  6.58129982e-04   1.43941449e-07   4.22675868e-07 ...,   1.29487647e-08\n",
      "   1.55024837e-09   2.10978263e-10]\n",
      "305\n",
      "[  2.18951777e-01   5.39719484e-12   1.90175362e-02 ...,   5.34820688e-10\n",
      "   6.20644215e-14   1.39776136e-12]\n",
      "1262\n",
      "[  1.74216359e-04   4.36905800e-09   3.39313643e-04 ...,   2.54877250e-07\n",
      "   1.64956134e-07   1.35614888e-08]\n",
      "1276\n",
      "[  2.09928527e-01   3.21097380e-12   2.63721216e-03 ...,   3.56708205e-11\n",
      "   6.11604544e-14   7.28052167e-12]\n",
      "25\n",
      "[  1.04721426e-03   1.75044888e-13   2.67096902e-06 ...,   1.50946511e-09\n",
      "   1.72557603e-14   6.38672448e-10]\n",
      "504\n",
      "[  2.78578937e-05   1.25528823e-11   2.53754102e-08 ...,   2.20322003e-12\n",
      "   6.08629966e-17   9.16379386e-13]\n",
      "83\n",
      "[  7.08164182e-04   9.45602039e-07   1.49249934e-06 ...,   4.11772449e-10\n",
      "   2.41921639e-11   7.25473281e-09]\n",
      "155\n",
      "[  1.69338770e-02   2.20435825e-13   9.45194856e-08 ...,   1.92484115e-12\n",
      "   1.06362378e-18   3.40912402e-15]\n",
      "162\n",
      "[  4.21005208e-03   5.78930681e-09   6.25335597e-05 ...,   3.03428394e-11\n",
      "   2.77137695e-14   4.60656957e-13]\n",
      "21\n",
      "[  6.28605630e-05   9.65277902e-09   2.56868334e-05 ...,   1.90843813e-10\n",
      "   2.24982858e-12   4.02694440e-11]\n",
      "5\n",
      "[  5.39646589e-06   1.32768105e-06   4.10014195e-07 ...,   4.02348654e-10\n",
      "   2.73319579e-11   7.68851816e-10]\n",
      "942\n",
      "[  7.86290795e-04   4.45585101e-05   3.21565904e-06 ...,   1.01863515e-12\n",
      "   3.33861552e-18   5.19806617e-17]\n",
      "513\n",
      "[  1.43422920e-04   1.37214140e-09   2.80386972e-04 ...,   2.28367686e-10\n",
      "   3.02000802e-13   1.18090199e-11]\n",
      "23\n",
      "[  3.11029464e-04   3.00264540e-15   5.44013652e-08 ...,   2.75489953e-07\n",
      "   5.41843292e-15   6.74627021e-11]\n",
      "2255\n",
      "[  1.08499755e-03   4.73626338e-09   5.86380586e-02 ...,   2.68967959e-09\n",
      "   6.23561099e-13   1.31703468e-10]\n",
      "21\n",
      "[  7.37843931e-01   8.41104075e-09   2.68273579e-04 ...,   2.39783110e-10\n",
      "   6.31324923e-11   3.43548134e-10]\n",
      "0\n",
      "[  5.68304071e-03   9.87586617e-01   6.78169257e-11 ...,   2.10614837e-13\n",
      "   5.85840385e-16   4.22257541e-11]\n",
      "1\n",
      "[  3.44223954e-05   1.99555550e-02   3.16956757e-05 ...,   1.47665533e-10\n",
      "   2.30908792e-10   3.62568614e-10]\n",
      "12\n",
      "[  4.81520010e-06   1.76623610e-06   3.57709541e-05 ...,   9.80728565e-09\n",
      "   1.24852950e-09   5.48326037e-11]\n",
      "70\n",
      "[  5.72735235e-06   1.23222387e-11   9.71819245e-05 ...,   8.69767813e-10\n",
      "   2.24266203e-10   5.20808119e-11]\n",
      "366\n",
      "[  6.24698146e-07   4.74916106e-08   3.04171317e-06 ...,   8.35557387e-11\n",
      "   1.90758229e-10   1.25766689e-10]\n",
      "1190\n",
      "[  2.91706401e-05   3.75145005e-15   1.67810708e-06 ...,   1.21421514e-12\n",
      "   3.52687579e-16   1.33345316e-15]\n",
      "5279\n",
      "[  2.06064936e-02   3.44173472e-08   2.27991404e-05 ...,   1.29480773e-08\n",
      "   2.90921776e-09   9.18169651e-10]\n",
      "263\n",
      "[  4.78079962e-03   8.05638833e-10   9.70103264e-01 ...,   1.05484840e-11\n",
      "   7.27356923e-13   9.19665732e-12]\n",
      "2\n",
      "[  1.27636267e-05   1.53530877e-07   6.49213632e-07 ...,   4.54387666e-10\n",
      "   5.47393020e-10   1.23209691e-06]\n",
      "117\n",
      "[  3.35880395e-05   2.12623206e-07   2.86653858e-07 ...,   6.31805663e-10\n",
      "   1.94651968e-11   1.54547775e-09]\n",
      "211\n",
      "[  4.12033929e-04   2.13578964e-11   3.34040378e-05 ...,   9.68029834e-09\n",
      "   3.48756505e-12   8.55878736e-12]\n",
      "85\n",
      "[  4.87865031e-01   5.99505768e-07   4.04562324e-01 ...,   1.34208148e-11\n",
      "   2.50381318e-17   1.50166507e-14]\n",
      "0\n",
      "[  1.76923603e-01   2.12326050e-02   4.16695148e-05 ...,   4.18930279e-10\n",
      "   7.02304118e-11   1.38402392e-08]\n",
      "29\n",
      "[  9.23342941e-06   4.88242134e-04   7.91437924e-01 ...,   1.37264546e-08\n",
      "   4.92077490e-11   4.81084573e-12]\n",
      "2\n",
      "[  4.45356306e-07   2.89817672e-05   8.07961442e-06 ...,   5.26823065e-08\n",
      "   2.26145422e-11   1.39571190e-08]\n",
      "70\n",
      "[  1.89690275e-06   6.41506705e-13   1.65049583e-04 ...,   1.06907636e-12\n",
      "   6.49293233e-15   5.35686426e-12]\n",
      "135\n",
      "[  6.54124790e-07   2.19249393e-11   1.10896785e-07 ...,   1.61369015e-10\n",
      "   6.02166691e-15   1.61891008e-13]\n",
      "7\n",
      "[  2.63118604e-03   7.45155795e-17   1.46091843e-05 ...,   8.89693319e-11\n",
      "   3.78117236e-14   4.54479297e-15]\n",
      "39\n",
      "[  4.54487349e-07   1.91675582e-12   5.52757183e-06 ...,   4.92485284e-13\n",
      "   3.42950769e-17   4.05726478e-14]\n",
      "13\n",
      "[  1.51944812e-04   2.97631047e-14   2.22662759e-08 ...,   4.64716460e-12\n",
      "   1.67529751e-14   9.47760276e-14]\n",
      "43\n",
      "[  4.91392821e-05   5.35153180e-14   6.46093667e-09 ...,   1.59578045e-10\n",
      "   4.09429819e-17   5.49139401e-13]\n",
      "1295\n",
      "[  2.34925668e-04   1.81534894e-08   4.66430505e-11 ...,   4.63012906e-10\n",
      "   1.83453911e-15   6.68680389e-11]\n",
      "5145\n",
      "[  6.72990780e-07   2.31054891e-16   1.33092419e-06 ...,   1.08621818e-11\n",
      "   2.49647122e-15   2.94341544e-14]\n",
      "15\n",
      "[  2.16679309e-05   3.91244606e-11   4.10708658e-08 ...,   1.27766728e-10\n",
      "   2.88706760e-16   1.52389740e-10]\n",
      "5\n",
      "[  9.12499521e-03   7.92663968e-07   5.31112846e-07 ...,   2.63984190e-09\n",
      "   3.04387140e-11   1.53232038e-09]\n",
      "2713\n",
      "[  1.61188871e-01   4.58265514e-09   6.93099424e-02 ...,   3.78886884e-14\n",
      "   1.27593964e-18   2.33290820e-16]\n",
      "10\n",
      "[  3.80432284e-05   5.35376482e-02   1.70090614e-04 ...,   2.47302090e-09\n",
      "   7.22113558e-12   5.89826286e-08]\n",
      "20\n",
      "[  1.00486500e-06   7.87941396e-01   3.00985703e-04 ...,   9.47996170e-09\n",
      "   3.14645163e-12   6.02832451e-09]\n",
      "1\n",
      "[  6.53425474e-08   9.54940915e-01   7.01742636e-07 ...,   1.06499840e-08\n",
      "   2.92392676e-16   3.98368795e-12]\n",
      "1\n",
      "[  2.02032680e-07   9.97059882e-01   3.31954880e-07 ...,   3.21461802e-10\n",
      "   3.58171312e-15   7.97879219e-14]\n",
      "1\n",
      "[  3.10710038e-06   2.96737038e-04   1.31085244e-06 ...,   9.72110303e-09\n",
      "   4.56993341e-12   1.70810328e-11]\n",
      "12\n",
      "[  2.04458851e-02   2.24279373e-09   6.42269413e-07 ...,   5.82621118e-10\n",
      "   7.67861330e-09   1.15569367e-10]\n",
      "3\n",
      "[  1.62032681e-08   2.57762593e-08   1.41541750e-06 ...,   7.58883090e-09\n",
      "   4.69576917e-04   6.85372481e-10]\n",
      "737\n",
      "[  9.03686104e-09   4.07885782e-05   2.05313586e-06 ...,   3.54319913e-14\n",
      "   4.04306233e-12   1.90883652e-18]\n",
      "4\n",
      "[  8.27419990e-06   3.46585039e-05   5.41493364e-06 ...,   3.67273182e-12\n",
      "   4.23575397e-09   2.92070556e-12]\n",
      "29\n",
      "[  1.97005447e-05   1.59787961e-10   2.97687501e-02 ...,   8.98214749e-12\n",
      "   1.96699387e-13   3.18312202e-16]\n",
      "105\n",
      "[  8.76338527e-06   1.72824613e-12   9.99258101e-01 ...,   3.58991266e-14\n",
      "   5.26216572e-16   1.70308521e-16]\n",
      "2\n",
      "[  2.12806088e-04   2.87898844e-10   7.81794256e-08 ...,   1.65429626e-09\n",
      "   1.34428050e-11   7.19888094e-10]\n",
      "7\n",
      "[  1.63907907e-03   6.11112632e-17   1.45845959e-04 ...,   3.34908902e-12\n",
      "   3.28642848e-13   3.38452844e-13]\n",
      "5041\n",
      "[  5.24412008e-06   1.50128310e-09   1.99184884e-04 ...,   6.53338061e-12\n",
      "   1.47954142e-14   1.98504993e-12]\n",
      "18\n",
      "[  3.30388956e-02   7.14484072e-09   2.24082432e-05 ...,   1.80045048e-10\n",
      "   4.81034856e-14   3.42683076e-13]\n",
      "8\n",
      "[  1.94302222e-04   9.92731988e-01   1.21331630e-06 ...,   5.67911031e-11\n",
      "   7.70694652e-13   1.43720214e-12]\n",
      "1\n",
      "[  6.31032719e-07   5.67601398e-02   2.54948135e-03 ...,   5.84186172e-11\n",
      "   5.29834736e-15   3.56111256e-12]\n",
      "159\n",
      "[  6.21167291e-03   4.00460594e-05   6.58851641e-05 ...,   8.26351695e-11\n",
      "   1.29463507e-09   9.20573188e-13]\n",
      "31\n",
      "[  5.39693646e-02   1.07348366e-11   8.07338178e-01 ...,   2.11481693e-10\n",
      "   2.20237863e-13   7.04388858e-13]\n",
      "2\n",
      "[  1.32956748e-05   2.20412915e-07   2.38648325e-04 ...,   1.09459464e-09\n",
      "   1.33165397e-12   8.81154802e-11]\n",
      "48\n",
      "[  7.23280482e-06   9.45894188e-13   4.05426326e-05 ...,   7.42039243e-12\n",
      "   6.12861454e-12   1.52384605e-12]\n",
      "2243\n",
      "[  5.35914151e-05   1.26263799e-09   6.84359402e-04 ...,   1.68026607e-10\n",
      "   3.49091754e-14   1.36364173e-13]\n",
      "8\n",
      "[  4.51207889e-04   9.83495533e-01   1.83121676e-06 ...,   1.78861385e-12\n",
      "   1.51333964e-16   4.49196322e-12]\n",
      "1\n",
      "[  8.45649936e-07   4.54410692e-05   2.16238368e-06 ...,   2.06526751e-09\n",
      "   3.05095294e-12   4.17973656e-09]\n",
      "33\n",
      "[  1.07507547e-03   3.77016818e-06   3.66770132e-06 ...,   1.60301737e-11\n",
      "   2.83305259e-12   2.34943120e-12]\n",
      "3\n",
      "[  1.68264052e-08   1.58845492e-09   9.31142452e-09 ...,   5.34252850e-11\n",
      "   1.89792779e-10   3.35406767e-12]\n",
      "2795\n",
      "[  1.49102501e-11   2.01911043e-09   2.26095366e-07 ...,   3.84308145e-13\n",
      "   3.20644622e-11   1.56261337e-15]\n",
      "4\n",
      "[  2.51584675e-06   6.59188372e-05   1.02189873e-07 ...,   1.15303253e-11\n",
      "   1.46914392e-08   5.79278847e-10]\n",
      "873\n",
      "[  8.44235998e-04   2.58773070e-09   9.94039536e-01 ...,   9.63283815e-15\n",
      "   1.74061681e-17   7.81141394e-17]\n",
      "2\n",
      "[  2.73957799e-08   4.91820495e-09   1.06105801e-07 ...,   2.27245184e-11\n",
      "   4.56414550e-12   1.69767489e-08]\n",
      "873\n",
      "[  4.52704671e-06   9.03611561e-11   9.99593914e-01 ...,   2.09326442e-17\n",
      "   2.74602294e-21   2.23678245e-19]\n",
      "2\n",
      "[  3.21970468e-08   6.27013179e-08   1.34795278e-06 ...,   2.01312167e-09\n",
      "   5.19448218e-09   1.49940524e-06]\n",
      "873\n",
      "[  6.49240928e-06   7.29971528e-10   5.30426449e-04 ...,   3.16304994e-15\n",
      "   8.89991668e-20   4.17679093e-17]\n",
      "8\n",
      "[  4.18528711e-04   8.39780867e-01   2.82899040e-04 ...,   2.11800035e-08\n",
      "   2.57556282e-10   1.57539972e-08]\n",
      "1\n",
      "[  3.38679056e-05   3.61397229e-02   1.97520349e-04 ...,   1.05390134e-10\n",
      "   1.11741366e-13   9.64794989e-14]\n",
      "12\n",
      "[  1.57411897e-03   8.21895355e-06   6.91813511e-06 ...,   1.00392663e-08\n",
      "   1.94570404e-08   7.20457236e-11]\n",
      "30\n",
      "[  3.50743676e-07   1.02074978e-12   9.99974728e-01 ...,   8.66965538e-16\n",
      "   4.40161540e-18   9.53619774e-21]\n",
      "2\n",
      "[  1.03809660e-04   4.03835365e-09   1.71918612e-06 ...,   1.48006538e-11\n",
      "   1.65671046e-10   3.80702865e-08]\n",
      "23\n",
      "[  8.41991294e-08   1.44897054e-11   2.46926533e-08 ...,   2.05783499e-06\n",
      "   8.42239283e-14   7.48149698e-13]\n",
      "22\n",
      "[  5.16505912e-03   1.17204483e-14   1.61113730e-05 ...,   1.52842861e-09\n",
      "   1.59764667e-11   2.58888592e-12]\n",
      "5379\n",
      "[  7.42256120e-02   4.37058942e-16   9.25504386e-01 ...,   1.27661635e-13\n",
      "   2.92311236e-17   1.90107016e-15]\n",
      "2\n",
      "[  2.02614183e-06   8.54831228e-09   2.96492768e-08 ...,   1.60949462e-10\n",
      "   2.37595832e-10   4.40366739e-06]\n",
      "16\n",
      "[  7.20046635e-04   2.33046113e-12   2.81065349e-09 ...,   2.11841525e-12\n",
      "   7.17243756e-13   1.00181051e-12]\n",
      "20\n",
      "[  7.78490801e-07   3.16031619e-05   1.95471375e-06 ...,   6.78742070e-14\n",
      "   1.68922032e-13   6.10768128e-17]\n",
      "4778\n",
      "[  9.99219537e-01   1.07191183e-15   3.24257853e-04 ...,   5.95494761e-16\n",
      "   2.07607881e-16   2.13741568e-18]\n",
      "0\n",
      "[  8.72019044e-08   2.90984754e-05   5.19997911e-07 ...,   2.12509741e-12\n",
      "   7.62481271e-15   1.15841080e-10]\n",
      "20\n",
      "[  2.57310676e-05   1.02575344e-03   1.35033726e-04 ...,   2.78692499e-12\n",
      "   1.27518621e-11   3.44879703e-09]\n",
      "14\n",
      "[  7.33754604e-08   1.42633576e-08   6.12615452e-08 ...,   8.48102530e-08\n",
      "   1.42346092e-11   2.47766779e-10]\n",
      "189\n",
      "[  2.03224248e-04   3.69040754e-09   3.03649530e-03 ...,   1.41820428e-05\n",
      "   1.63054086e-15   6.32195060e-11]\n",
      "5\n",
      "[  5.58318925e-06   1.32198558e-10   2.33429026e-10 ...,   5.63953897e-08\n",
      "   1.97069236e-10   2.38781467e-10]\n",
      "268\n",
      "[  6.60111383e-03   4.46949118e-12   7.95446038e-02 ...,   3.63595665e-09\n",
      "   3.01956287e-16   3.68245256e-13]\n",
      "15\n",
      "[  9.86209216e-06   2.01262806e-09   1.31540392e-05 ...,   2.66015387e-08\n",
      "   3.21528394e-11   3.57630995e-07]\n",
      "11\n",
      "[  3.40210572e-02   2.55225637e-12   3.51256633e-04 ...,   7.83498955e-09\n",
      "   2.26868767e-11   3.63841006e-11]\n",
      "5865\n",
      "[  4.93417247e-06   3.25137223e-16   7.13855668e-04 ...,   8.14117440e-10\n",
      "   1.51700933e-15   4.38955209e-12]\n",
      "4912\n",
      "[  9.95645404e-01   3.99734823e-08   1.86227134e-03 ...,   1.05056827e-12\n",
      "   6.18752909e-16   7.02636734e-13]\n",
      "0\n",
      "[  1.23293688e-07   9.99975681e-01   4.51951358e-11 ...,   7.19580154e-15\n",
      "   2.02603134e-17   6.44299067e-13]\n",
      "1\n",
      "[  1.68939383e-04   3.55674070e-04   3.54062140e-05 ...,   7.37947037e-09\n",
      "   1.66350406e-11   4.67503480e-10]\n",
      "9\n",
      "[  1.31390640e-04   1.48681963e-07   2.37992572e-06 ...,   1.31005695e-09\n",
      "   5.39880987e-11   2.67717619e-11]\n",
      "3\n",
      "[  2.43401189e-07   3.39843764e-10   8.42514328e-06 ...,   1.29520563e-08\n",
      "   9.18543961e-08   9.00708064e-10]\n",
      "284\n",
      "[  5.80795145e-09   6.53543752e-09   2.95311981e-03 ...,   8.46982072e-16\n",
      "   1.68879920e-16   1.74756354e-19]\n",
      "4\n",
      "[  1.16801537e-04   1.44891840e-06   1.93827378e-04 ...,   1.12965247e-12\n",
      "   7.81757228e-11   5.11483855e-10]\n",
      "6\n",
      "[  5.30724719e-05   5.14034024e-11   1.74059514e-05 ...,   1.76895221e-10\n",
      "   6.54450882e-10   4.15867774e-12]\n",
      "167\n",
      "[  7.06356540e-02   1.92075609e-12   2.82429994e-07 ...,   7.32865103e-13\n",
      "   2.86315026e-13   2.73926931e-13]\n",
      "115\n",
      "[  3.05302660e-06   1.11019619e-06   3.19000217e-04 ...,   1.71845762e-12\n",
      "   7.26734081e-12   4.21955663e-14]\n",
      "18\n",
      "[  3.19040060e-01   4.20542492e-05   1.47435488e-03 ...,   4.53147589e-11\n",
      "   1.43037242e-12   9.86613916e-11]\n",
      "0\n",
      "[  7.60348618e-01   8.19687545e-02   2.31654136e-04 ...,   1.20722418e-10\n",
      "   4.37388773e-14   4.05326918e-11]\n",
      "0\n",
      "[  9.99997854e-01   1.84066334e-06   2.11006927e-08 ...,   1.70170274e-15\n",
      "   1.05036396e-19   3.29163695e-15]\n",
      "0\n",
      "[  2.53831446e-02   1.21822245e-01   1.39987314e-04 ...,   1.82398338e-07\n",
      "   3.31019046e-10   1.64626400e-07]\n",
      "80\n",
      "[  8.36665332e-01   6.86308988e-14   9.12475007e-05 ...,   1.37834785e-10\n",
      "   3.31817661e-15   1.60416615e-13]\n",
      "0\n",
      "[  5.40847182e-01   2.60783195e-01   3.68501873e-07 ...,   9.34477495e-11\n",
      "   2.68293027e-15   1.13721020e-11]\n",
      "0\n",
      "[  1.00000000e+00   2.63622670e-08   9.58536894e-09 ...,   5.41004576e-18\n",
      "   3.15484535e-18   3.84101417e-17]\n",
      "0\n",
      "[  7.45288911e-04   1.15675596e-03   3.35147865e-06 ...,   8.29454621e-08\n",
      "   1.04454799e-10   1.75106564e-07]\n",
      "80\n",
      "[  8.58179629e-02   2.37461130e-14   1.15908391e-04 ...,   2.11033500e-11\n",
      "   1.96982374e-14   2.18966806e-11]\n",
      "46\n",
      "[  6.60277205e-03   1.32911902e-11   1.17444570e-05 ...,   3.68910041e-11\n",
      "   1.66307177e-14   9.85639196e-13]\n",
      "138\n",
      "[  4.99572525e-06   5.43976810e-13   3.54556022e-07 ...,   3.21184695e-14\n",
      "   5.20769197e-16   3.71918826e-15]\n",
      "7\n",
      "[  8.71219635e-02   4.03161478e-16   2.71668409e-06 ...,   1.88407120e-11\n",
      "   1.23672817e-12   1.01777350e-10]\n",
      "288\n",
      "[  8.55389735e-05   1.35315776e-08   2.31501809e-03 ...,   1.48362794e-10\n",
      "   5.47578801e-13   1.17006292e-11]\n",
      "18\n",
      "[  1.08547928e-02   3.95713960e-06   4.36063437e-03 ...,   1.09824393e-10\n",
      "   7.23598102e-13   3.95657285e-10]\n",
      "32\n",
      "[  4.91180792e-02   5.26593179e-12   2.85334531e-02 ...,   2.02207640e-10\n",
      "   1.55591997e-13   2.24370232e-13]\n",
      "124\n",
      "[  9.89325285e-01   4.45379254e-11   4.98278155e-07 ...,   4.39798510e-11\n",
      "   1.73295928e-14   2.68248639e-12]\n",
      "0\n",
      "[  5.91273070e-04   9.89836037e-01   3.13612588e-07 ...,   4.18842478e-12\n",
      "   7.83301782e-14   8.58725677e-12]\n",
      "1\n",
      "[  9.47267836e-06   3.64837586e-04   3.88989174e-05 ...,   5.02576536e-10\n",
      "   3.18243210e-10   1.30000247e-11]\n",
      "12\n",
      "[  5.09495885e-06   2.04333134e-07   6.49064823e-05 ...,   1.27030428e-10\n",
      "   5.71445044e-11   3.21513839e-13]\n",
      "3\n",
      "[  4.26712710e-08   1.66705672e-06   3.21836382e-07 ...,   3.93181949e-08\n",
      "   4.15725482e-10   5.10242648e-09]\n",
      "2738\n",
      "[  1.49959533e-07   9.42362410e-10   2.94828606e-08 ...,   7.99103147e-14\n",
      "   1.43829619e-17   1.83267875e-20]\n",
      "4\n",
      "[  2.30085745e-04   7.56380771e-08   1.15857324e-06 ...,   1.41355521e-11\n",
      "   3.57179564e-10   1.74697982e-11]\n",
      "96\n",
      "[  4.08139385e-05   3.08236645e-13   1.36347671e-08 ...,   1.26676456e-11\n",
      "   3.17826467e-13   8.19446439e-15]\n",
      "52\n",
      "[  4.89899030e-05   2.47992182e-10   1.65286456e-05 ...,   4.81686635e-10\n",
      "   3.72535128e-15   2.90490186e-14]\n",
      "17\n",
      "moe_szyslak:(into phone) moe's tavern. where the elite meet to drink.\n",
      "bart_simpson: eh, yeah, no. makin' polenta.\n",
      "moe_szyslak:(\" back off\") okay, you gotta fly us up there and see.\n",
      "homer_simpson:(sobs) oh, my stars! it's firing a beam of pure energy!\n",
      "homer_simpson:(gasps) she's like a hundred dollar bill for anyone who will give me the truth behind this so-called me.\n",
      "homer_simpson: how many magic beans kids, or any man. hey, how would you like to be heavyweight champion of the sport?\"\n",
      "\n",
      "\n",
      "homer_simpson:(proudly) hey guys, you planted that!\n",
      "chief_wiggum: oh, it's ringing!\n",
      "lenny_leonard:(louder) omigod, omigod, omigod!\n",
      "homer_simpson: moe, this is astrid, my\" dealer.\" and these the world of a sturdy 4x4.\n",
      "moe_szyslak:(sighs) i didn't say that... they... they don't let you use that no more.\n",
      "homer_simpson:(firmly) i'll do it\n"
     ]
    }
   ],
   "source": [
    "gen_length = 200\n",
    "# homer_simpson, moe_szyslak, or Barney_Gumble\n",
    "prime_word = 'moe_szyslak'\n",
    "\n",
    "\"\"\"\n",
    "DON'T MODIFY ANYTHING IN THIS CELL THAT IS BELOW THIS LINE\n",
    "\"\"\"\n",
    "loaded_graph = tf.Graph()\n",
    "with tf.Session(graph=loaded_graph) as sess:\n",
    "    # Load saved model\n",
    "    loader = tf.train.import_meta_graph(load_dir + '.meta')\n",
    "    loader.restore(sess, load_dir)\n",
    "\n",
    "    # Get Tensors from loaded model\n",
    "    input_text, initial_state, final_state, probs = get_tensors(loaded_graph)\n",
    "\n",
    "    # Sentences generation setup\n",
    "    gen_sentences = [prime_word + ':']\n",
    "    prev_state = sess.run(initial_state, {input_text: np.array([[1]])})\n",
    "\n",
    "    # Generate sentences\n",
    "    for n in range(gen_length):\n",
    "        # Dynamic Input\n",
    "        dyn_input = [[vocab_to_int[word] for word in gen_sentences[-seq_length:]]]\n",
    "        dyn_seq_length = len(dyn_input[0])\n",
    "\n",
    "        # Get Prediction\n",
    "        probabilities, prev_state = sess.run(\n",
    "            [probs, final_state],\n",
    "            {input_text: dyn_input, initial_state: prev_state})\n",
    "        \n",
    "        pred_word = pick_word(probabilities[dyn_seq_length-1], int_to_vocab)\n",
    "\n",
    "        gen_sentences.append(pred_word)\n",
    "    \n",
    "    # Remove tokens\n",
    "    tv_script = ' '.join(gen_sentences)\n",
    "    for key, token in token_dict.items():\n",
    "        ending = ' ' if key in ['\\n', '(', '\"'] else ''\n",
    "        tv_script = tv_script.replace(' ' + token.lower(), key)\n",
    "    tv_script = tv_script.replace('\\n ', '\\n')\n",
    "    tv_script = tv_script.replace('( ', '(')\n",
    "        \n",
    "    print(tv_script)"
   ]
  },
  {
   "cell_type": "markdown",
   "metadata": {
    "deletable": true,
    "editable": true
   },
   "source": [
    "# The TV Script is Nonsensical\n",
    "It's ok if the TV script doesn't make any sense.  We trained on less than a megabyte of text.  In order to get good results, you'll have to use a smaller vocabulary or get more data.  Luckly there's more data!  As we mentioned in the begging of this project, this is a subset of [another dataset](https://www.kaggle.com/wcukierski/the-simpsons-by-the-data).  We didn't have you train on all the data, because that would take too long.  However, you are free to train your neural network on all the data.  After you complete the project, of course.\n",
    "# Submitting This Project\n",
    "When submitting this project, make sure to run all the cells before saving the notebook. Save the notebook file as \"dlnd_tv_script_generation.ipynb\" and save it as a HTML file under \"File\" -> \"Download as\". Include the \"helper.py\" and \"problem_unittests.py\" files in your submission."
   ]
  },
  {
   "cell_type": "code",
   "execution_count": null,
   "metadata": {
    "collapsed": true,
    "deletable": true,
    "editable": true
   },
   "outputs": [],
   "source": []
  }
 ],
 "metadata": {
  "anaconda-cloud": {},
  "kernelspec": {
   "display_name": "Python 3",
   "language": "python",
   "name": "python3"
  },
  "language_info": {
   "codemirror_mode": {
    "name": "ipython",
    "version": 3
   },
   "file_extension": ".py",
   "mimetype": "text/x-python",
   "name": "python",
   "nbconvert_exporter": "python",
   "pygments_lexer": "ipython3",
   "version": "3.5.4"
  }
 },
 "nbformat": 4,
 "nbformat_minor": 0
}
